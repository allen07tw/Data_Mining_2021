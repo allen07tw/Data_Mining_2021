{
 "cells": [
  {
   "cell_type": "markdown",
   "metadata": {},
   "source": [
    "# perfect_cam_or_cdm"
   ]
  },
  {
   "cell_type": "code",
   "execution_count": 1,
   "metadata": {},
   "outputs": [],
   "source": [
    "static_table = {\n",
    "'Acceleration' : ['Acceleration_strong', 'Acceleration_normal', 'Acceleration_weak'],\n",
    "'Sprint_Speed' : ['Sprint_Speed_strong', 'Sprint_Speed_normal', 'Sprint_Speed_weak'],\n",
    "'Positioning': ['Positioning_strong', 'Positioning_normal', 'Positioning_weak'],\n",
    "'Finishing': ['Finishing_strong', 'Finishing_normal', 'Finishing_weak'],\n",
    "'Shot_Power': ['Shot Power_strong', 'Shot Power_normal', 'Shot Power_weak'],\n",
    "'Long_Shot' : ['Long_Shot strong', 'Long_Shot normal', 'Long_Shot weak'],\n",
    "'Volleys': ['Volleys strong', 'Volleys normal', 'Volleys weak'],\n",
    "'Penalties' : ['Penalties strong', 'Penalties normal', 'Penalties weak'],\n",
    "'Vision' : ['Vision strong', 'Vision normal', 'Vision weak'],\n",
    "'Crossing' : ['Crossing strong', 'Crossing normal', 'Crossing weak'],\n",
    "'Free_Kick' : ['Free_Kick strong', 'Free_Kick normal', 'Free_Kick weak'],\n",
    "'Short_Passing' : ['Short Passing strong', 'Short Passing normal', 'Short Passing weak'],\n",
    "'Long_Passing' : ['Long Passing strong', 'Long Passing normal', 'Long Passing weak'],\n",
    "'Curve' : ['Curve strong', 'Curve normal', 'Curve weak'],\n",
    "'Agility' : ['Agility strong', 'Agility normal', 'Agility weak'],\n",
    "'Balance' : ['Balance strong', 'Balance normal', 'Balance weak'],\n",
    "'Reactions' : ['Reactions strong', 'Reactions normal', 'Reactions weak'],\n",
    "'Ball_Control' : ['Ball_Control strong', 'Ball_Control normal', 'Ball_Control weak'],\n",
    "'Dribbling' : ['Dribbling strong', 'Dribbling normal', 'Dribbling weak'],\n",
    "'Interceptions' : ['Interceptions strong', 'Interceptions normal', 'Interceptions weak'],\n",
    "'Heading' : ['Heading strong', 'Heading normal', 'Heading weak'],\n",
    "'Marking' : ['Marking strong', 'Marking normal', 'Marking weak'],\n",
    "'Stand_Tackle' : ['Stand_Tackle strong', 'Stand_Tackle normal', 'Stand_Tackle weak'],\n",
    "'Sliding_Tackle' : ['Sliding_Tackle strong', 'Sliding_Tackle normal', 'Sliding_Tackle weak'],\n",
    "'Jumping' : ['Jumping strong', 'Jumping normal', 'Jumping weak'],\n",
    "'Strength' : ['Strength strong', 'Strength normal', 'Strength weak'],\n",
    "'Aggression' : ['Aggression strong', 'Aggression normal', 'Aggression weak'],}"
   ]
  },
  {
   "cell_type": "markdown",
   "metadata": {},
   "source": [
    "# feat =7\n",
    "'Long_Shot','Vision','Short_Passing','Long_Passing','Ball_Control', 'Dribbling','Stand_Tackle'"
   ]
  },
  {
   "cell_type": "code",
   "execution_count": 2,
   "metadata": {},
   "outputs": [],
   "source": [
    "import copy\n",
    "\n",
    "\n",
    "# remove_list = ['Long_Shot','Vision','Short_Passing','Long_Passing','Ball_Control', 'Dribbling','Stand_Tackle']\n",
    "###rule  1 Long_Shot\n",
    "static_table_long_shot_p = copy.deepcopy(static_table)\n",
    "del static_table_long_shot_p['Long_Shot'][1]\n",
    "del static_table_long_shot_p['Long_Shot'][1]\n",
    "\n",
    "static_table_long_shot_n = copy.deepcopy(static_table)\n",
    "del static_table_long_shot_n['Long_Shot'][0]\n",
    "\n",
    "###rule2 Stand_Tackle\n",
    "static_table_stand_tackle_p = copy.deepcopy(static_table)\n",
    "del static_table_stand_tackle_p['Stand_Tackle'][0]\n",
    "\n",
    "static_table_stand_tackle_n = copy.deepcopy(static_table)\n",
    "del static_table_stand_tackle_n['Stand_Tackle'][1]\n",
    "del static_table_stand_tackle_n['Stand_Tackle'][1]\n",
    "\n",
    "### 'Vision'\n",
    "static_table_Vision_p = copy.deepcopy(static_table)\n",
    "del static_table_Vision_p['Vision'][1]\n",
    "del static_table_Vision_p['Vision'][1]\n",
    "\n",
    "static_table_Vision_n = copy.deepcopy(static_table)\n",
    "del static_table_Vision_n['Vision'][0]\n",
    "\n",
    "### 'Short_Passing'\n",
    "static_table_Short_Passing_p = copy.deepcopy(static_table)\n",
    "del static_table_Short_Passing_p['Short_Passing'][1]\n",
    "del static_table_Short_Passing_p['Short_Passing'][1]\n",
    "\n",
    "static_table_Short_Passing_n = copy.deepcopy(static_table)\n",
    "del static_table_Short_Passing_n['Short_Passing'][0]\n",
    "\n",
    "### 'Dribbling'\n",
    "static_table_Dribbling_p = copy.deepcopy(static_table)\n",
    "del static_table_Dribbling_p['Dribbling'][1]\n",
    "del static_table_Dribbling_p['Dribbling'][1]\n",
    "\n",
    "static_table_Dribbling_n = copy.deepcopy(static_table)\n",
    "del static_table_Dribbling_n['Dribbling'][0]\n",
    "\n",
    "### 'Heading'\n",
    "static_table_Heading_p = copy.deepcopy(static_table)\n",
    "del static_table_Heading_p['Heading'][0]\n",
    "\n",
    "\n",
    "static_table_Heading_n = copy.deepcopy(static_table)\n",
    "del static_table_Heading_n['Heading'][1]\n",
    "del static_table_Heading_n['Heading'][1]\n",
    "\n",
    "### 'Sliding_Tackle'\n",
    "static_table_Sliding_Tackle_p = copy.deepcopy(static_table)\n",
    "del static_table_Sliding_Tackle_p['Sliding_Tackle'][0]\n",
    "\n",
    "\n",
    "static_table_Sliding_Tackle_n = copy.deepcopy(static_table)\n",
    "del static_table_Sliding_Tackle_n['Sliding_Tackle'][1]\n",
    "del static_table_Sliding_Tackle_p['Sliding_Tackle'][1]\n"
   ]
  },
  {
   "cell_type": "code",
   "execution_count": 3,
   "metadata": {},
   "outputs": [],
   "source": [
    "# cam_good = ['Acceleration','Sprint_Speed','Crossing'] cdm_good = ['Interceptions', 'Marking', 'Sliding_Tackle']"
   ]
  },
  {
   "cell_type": "markdown",
   "metadata": {},
   "source": [
    "# new_static_table_to_range"
   ]
  },
  {
   "cell_type": "code",
   "execution_count": 4,
   "metadata": {},
   "outputs": [],
   "source": [
    "from random import uniform\n",
    "\n",
    "\n",
    "\n",
    "# static_type_class = [uniform(15,25), uniform(5,15), uniform(0,10)]\n",
    "# static_type_class_negative = [uniform(5,15), uniform(0,10)]\n",
    "static_type_class = [2, 1, 0]\n",
    "static_type_class_negative = [1, 0]\n",
    "# def new_static_table_postive_cm_gen():\n",
    "#     new_static_table_postive = static_table_postive.copy()\n",
    "#     for static_type in new_static_table_postive.keys():\n",
    "#         for idx, value in enumerate(new_static_table_postive[static_type]):\n",
    "#             new_static_table_postive[static_type][idx] = static_type_class[idx]\n",
    "#     return new_static_table_postive\n",
    "\n",
    "# def new_static_table_postive_cam_gen():\n",
    "#     new_static_table_postive = static_table_postive_cam.copy()\n",
    "#     for static_type in new_static_table_postive.keys():\n",
    "#         for idx, value in enumerate(new_static_table_postive[static_type]):\n",
    "#             new_static_table_postive[static_type][idx] = static_type_class[idx]\n",
    "#     return new_static_table_postive\n",
    "\n",
    "# def new_static_table_negative_wo_long_shot_gen():\n",
    "#     new_static_table_negative_wo_long_shot = static_table_negative_wo_long_shot.copy()\n",
    "#     for static_type in new_static_table_negative_wo_long_shot.keys():\n",
    "#         for idx, value in enumerate(new_static_table_negative_wo_long_shot[static_type]):\n",
    "#             if len(new_static_table_negative_wo_long_shot[static_type]) == 2:\n",
    "#                 new_static_table_negative_wo_long_shot[static_type][idx] = static_type_class_negative[idx]\n",
    "#             else:\n",
    "#                 new_static_table_negative_wo_long_shot[static_type][idx] = static_type_class[idx]\n",
    "#     return new_static_table_negative_wo_long_shot\n",
    "\n",
    "# def new_static_table_negative_wo_stand_tackle_gen():\n",
    "#     new_static_table_negative_wo_stand_tackle = static_table_negative_wo_stand_tackle.copy()\n",
    "#     for static_type in new_static_table_negative_wo_stand_tackle.keys():\n",
    "#         for idx, value in enumerate(new_static_table_negative_wo_stand_tackle[static_type]):\n",
    "#             if len(new_static_table_negative_wo_stand_tackle[static_type]) == 2:\n",
    "#                 new_static_table_negative_wo_stand_tackle[static_type][idx] = static_type_class_negative[idx]\n",
    "#             else:\n",
    "#                 new_static_table_negative_wo_stand_tackle[static_type][idx] = static_type_class[idx]\n",
    "#     return new_static_table_negative_wo_stand_tackle\n",
    "\n",
    "def new_static_table_long_shot_p_gen():\n",
    "    new_static_table_long_shot_p = static_table_long_shot_p.copy()\n",
    "    for static_type in new_static_table_long_shot_p.keys():\n",
    "        for idx, value in enumerate(new_static_table_long_shot_p[static_type]):\n",
    "            if len(new_static_table_long_shot_p[static_type]) == 2:\n",
    "                new_static_table_long_shot_p[static_type][idx] = static_type_class_negative[idx]\n",
    "            else:\n",
    "                new_static_table_long_shot_p[static_type][idx] = static_type_class[idx]\n",
    "    return new_static_table_long_shot_p\n",
    "\n",
    "def new_static_table_long_shot_n_gen():\n",
    "    new_static_table_long_shot_n = static_table_long_shot_n.copy()\n",
    "    for static_type in new_static_table_long_shot_n.keys():\n",
    "        for idx, value in enumerate(new_static_table_long_shot_n[static_type]):\n",
    "            if len(new_static_table_long_shot_n[static_type]) == 2:\n",
    "                new_static_table_long_shot_n[static_type][idx] = static_type_class_negative[idx]\n",
    "            else:\n",
    "                new_static_table_long_shot_n[static_type][idx] = static_type_class[idx]\n",
    "    return new_static_table_long_shot_n\n",
    "\n",
    "def new_static_table_stand_tackle_p_gen():\n",
    "    new_static_table_stand_tackle_p = static_table_stand_tackle_p.copy()\n",
    "    for static_type in new_static_table_stand_tackle_p.keys():\n",
    "        for idx, value in enumerate(new_static_table_stand_tackle_p[static_type]):\n",
    "            if len(new_static_table_stand_tackle_p[static_type]) == 2:\n",
    "                new_static_table_stand_tackle_p[static_type][idx] = static_type_class_negative[idx]\n",
    "            else:\n",
    "                new_static_table_stand_tackle_p[static_type][idx] = static_type_class[idx]\n",
    "    return new_static_table_stand_tackle_p\n",
    "\n",
    "def new_static_table_stand_tackle_n_gen():\n",
    "    new_static_table_stand_tackle_n = static_table_stand_tackle_n.copy()\n",
    "    for static_type in new_static_table_stand_tackle_n.keys():\n",
    "        for idx, value in enumerate(new_static_table_stand_tackle_n[static_type]):\n",
    "            if len(new_static_table_stand_tackle_n[static_type]) == 2:\n",
    "                new_static_table_stand_tackle_n[static_type][idx] = static_type_class_negative[idx]\n",
    "            else:\n",
    "                new_static_table_stand_tackle_n[static_type][idx] = static_type_class[idx]\n",
    "    return new_static_table_stand_tackle_n\n",
    "\n",
    "def new_static_table_Vision_p_gen():\n",
    "    new_static_table_Vision_p = static_table_Vision_p.copy()\n",
    "    for static_type in new_static_table_Vision_p.keys():\n",
    "        for idx, value in enumerate(new_static_table_Vision_p[static_type]):\n",
    "            if len(new_static_table_Vision_p[static_type]) == 2:\n",
    "                new_static_table_Vision_p[static_type][idx] = static_type_class_negative[idx]\n",
    "            else:\n",
    "                new_static_table_Vision_p[static_type][idx] = static_type_class[idx]\n",
    "    return new_static_table_Vision_p\n",
    "\n",
    "def new_static_table_Vision_n_gen():\n",
    "    new_static_table_Vision_n = static_table_Vision_n.copy()\n",
    "    for static_type in new_static_table_Vision_n.keys():\n",
    "        for idx, value in enumerate(new_static_table_Vision_n[static_type]):\n",
    "            if len(new_static_table_Vision_n[static_type]) == 2:\n",
    "                new_static_table_Vision_n[static_type][idx] = static_type_class_negative[idx]\n",
    "            else:\n",
    "                new_static_table_Vision_n[static_type][idx] = static_type_class[idx]\n",
    "    return new_static_table_Vision_n\n",
    "\n",
    "def new_static_table_Short_Passing_p_gen():\n",
    "    new_static_table_Short_Passing_p = static_table_Short_Passing_p.copy()\n",
    "    for static_type in new_static_table_Short_Passing_p.keys():\n",
    "        for idx, value in enumerate(new_static_table_Short_Passing_p[static_type]):\n",
    "            if len(new_static_table_Short_Passing_p[static_type]) == 2:\n",
    "                new_static_table_Short_Passing_p[static_type][idx] = static_type_class_negative[idx]\n",
    "            else:\n",
    "                new_static_table_Short_Passing_p[static_type][idx] = static_type_class[idx]\n",
    "    return new_static_table_Short_Passing_p\n",
    "\n",
    "def new_static_table_Short_Passing_n_gen():\n",
    "    new_static_table_Short_Passing_n = static_table_Short_Passing_n.copy()\n",
    "    for static_type in new_static_table_Short_Passing_n.keys():\n",
    "        for idx, value in enumerate(new_static_table_Short_Passing_n[static_type]):\n",
    "            if len(new_static_table_Short_Passing_n[static_type]) == 2:\n",
    "                new_static_table_Short_Passing_n[static_type][idx] = static_type_class_negative[idx]\n",
    "            else:\n",
    "                new_static_table_Short_Passing_n[static_type][idx] = static_type_class[idx]\n",
    "    return new_static_table_Short_Passing_n\n",
    "\n",
    "def new_static_table_Dribbling_p_gen():\n",
    "    new_static_table_Dribbling_p = static_table_Dribbling_p.copy()\n",
    "    for static_type in new_static_table_Dribbling_p.keys():\n",
    "        for idx, value in enumerate(new_static_table_Dribbling_p[static_type]):\n",
    "            if len(new_static_table_Dribbling_p[static_type]) == 2:\n",
    "                new_static_table_Dribbling_p[static_type][idx] = static_type_class_negative[idx]\n",
    "            else:\n",
    "                new_static_table_Dribbling_p[static_type][idx] = static_type_class[idx]\n",
    "    return new_static_table_Dribbling_p\n",
    "\n",
    "def new_static_table_Dribbling_n_gen():\n",
    "    new_static_table_Dribbling_n = static_table_Dribbling_n.copy()\n",
    "    for static_type in new_static_table_Dribbling_n.keys():\n",
    "        for idx, value in enumerate(new_static_table_Dribbling_n[static_type]):\n",
    "            if len(new_static_table_Dribbling_n[static_type]) == 2:\n",
    "                new_static_table_Dribbling_n[static_type][idx] = static_type_class_negative[idx]\n",
    "            else:\n",
    "                new_static_table_Dribbling_n[static_type][idx] = static_type_class[idx]\n",
    "    return new_static_table_Dribbling_n\n"
   ]
  },
  {
   "cell_type": "markdown",
   "metadata": {},
   "source": [
    "# multi_choose"
   ]
  },
  {
   "cell_type": "code",
   "execution_count": 5,
   "metadata": {},
   "outputs": [],
   "source": [
    "import random\n",
    "from random import choice\n",
    "from random import shuffle\n",
    "import numpy as np\n",
    "number_positive = 1000\n",
    "number_negative_wo_long_shot = 10\n",
    "number_negative_wo_stand_tackle = 10\n",
    "number_negative = 1000\n",
    "all_player_static = []\n",
    "all_player_static_p = []\n",
    "all_player_static_n = []\n",
    "CM_label =[]\n",
    "for player_amount in range(number_positive):   \n",
    "    player_static = []\n",
    "    new_static_table_long_shot_p = new_static_table_long_shot_p_gen()\n",
    "    for ability_type in new_static_table_long_shot_p.keys():\n",
    "        player_static.append(choice(new_static_table_long_shot_p[ability_type]))\n",
    "    all_player_static.append(player_static)\n",
    "       \n",
    "for player_amount in range(number_negative):   \n",
    "    player_static = []\n",
    "    new_static_table_long_shot_n = new_static_table_long_shot_n_gen()\n",
    "    for ability_type in new_static_table_long_shot_n.keys():\n",
    "        player_static.append(choice(new_static_table_long_shot_n[ability_type]))\n",
    "    all_player_static.append(player_static)\n",
    "    \n",
    "    \n",
    "for player_amount in range(number_negative):   \n",
    "    player_static = []\n",
    "    new_static_table_stand_tackle_n = new_static_table_stand_tackle_n_gen()\n",
    "    for ability_type in new_static_table_stand_tackle_n.keys():\n",
    "        player_static.append(choice(new_static_table_stand_tackle_n[ability_type]))\n",
    "    all_player_static.append(player_static)\n",
    "    \n",
    "    \n",
    "for player_amount in range(number_positive):   \n",
    "    player_static = []\n",
    "    new_static_table_stand_tackle_p = new_static_table_stand_tackle_p_gen()\n",
    "    for ability_type in new_static_table_stand_tackle_p.keys():\n",
    "        player_static.append(choice(new_static_table_stand_tackle_p[ability_type]))\n",
    "    all_player_static.append(player_static)\n",
    "\n",
    "for player_amount in range(number_positive):\n",
    "    player_static = []\n",
    "    new_static_table_Vision_p = new_static_table_Vision_p_gen()\n",
    "    for ability_type in new_static_table_Vision_p.keys():\n",
    "        player_static.append(choice(new_static_table_Vision_p[ability_type]))\n",
    "    all_player_static.append(player_static)\n",
    "\n",
    "for player_amount in range(number_negative):\n",
    "    player_static = []\n",
    "    new_static_table_Vision_n = new_static_table_Vision_n_gen()\n",
    "    for ability_type in new_static_table_Vision_n.keys():\n",
    "        player_static.append(choice(new_static_table_Vision_n[ability_type]))\n",
    "    all_player_static.append(player_static)\n",
    "\n",
    "\n",
    "for player_amount in range(number_positive):\n",
    "    player_static = []\n",
    "    new_static_table_Short_Passing_p = new_static_table_Short_Passing_p_gen()\n",
    "    for ability_type in new_static_table_Short_Passing_p.keys():\n",
    "        player_static.append(choice(new_static_table_Short_Passing_p[ability_type]))\n",
    "    all_player_static.append(player_static)\n",
    "\n",
    "for player_amount in range(number_negative):\n",
    "    player_static = []\n",
    "    new_static_table_Short_Passing_n = new_static_table_Short_Passing_n_gen()\n",
    "    for ability_type in new_static_table_Short_Passing_n.keys():\n",
    "        player_static.append(choice(new_static_table_Short_Passing_n[ability_type]))\n",
    "    all_player_static.append(player_static)   \n",
    "    \n",
    "for player_amount in range(number_positive):\n",
    "    player_static = []\n",
    "    new_static_table_Dribbling_p = new_static_table_Dribbling_p_gen()\n",
    "    for ability_type in new_static_table_Dribbling_p.keys():\n",
    "        player_static.append(choice(new_static_table_Dribbling_p[ability_type]))\n",
    "    all_player_static.append(player_static)\n",
    "\n",
    "for player_amount in range(number_negative):\n",
    "    player_static = []\n",
    "    new_static_table_Dribbling_n = new_static_table_Dribbling_n_gen()\n",
    "    for ability_type in new_static_table_Dribbling_n.keys():\n",
    "        player_static.append(choice(new_static_table_Dribbling_n[ability_type]))\n",
    "    all_player_static.append(player_static)\n",
    "\n",
    "# for player_amount in range(number_negative_wo_long_shot):   \n",
    "#     player_static = []\n",
    "#     new_static_table_negative_wo_long_shot = new_static_table_negative_wo_long_shot_gen()\n",
    "#     for ability_type in static_table_negative_wo_long_shot.keys():\n",
    "#         player_static.append(choice(new_static_table_negative_wo_long_shot[ability_type]))\n",
    "#     all_player_static.append(player_static)\n",
    "#     CM_label.append('no')\n",
    "    \n",
    "# for player_amount in range(number_negative_wo_stand_tackle):   \n",
    "#     player_static = []\n",
    "#     new_static_table_negative_wo_stand_tackle = new_static_table_negative_wo_stand_tackle_gen()\n",
    "#     for ability_type in new_static_table_negative_wo_stand_tackle.keys():\n",
    "#         player_static.append(choice(new_static_table_negative_wo_stand_tackle[ability_type]))\n",
    "#     all_player_static.append(player_static)\n",
    "#     CM_label.append('no')\n",
    "    "
   ]
  },
  {
   "cell_type": "code",
   "execution_count": 6,
   "metadata": {},
   "outputs": [
    {
     "data": {
      "text/plain": [
       "{'Acceleration': [2, 1, 0],\n",
       " 'Sprint_Speed': [2, 1, 0],\n",
       " 'Positioning': [2, 1, 0],\n",
       " 'Finishing': [2, 1, 0],\n",
       " 'Shot_Power': [2, 1, 0],\n",
       " 'Long_Shot': [2, 1, 0],\n",
       " 'Volleys': [2, 1, 0],\n",
       " 'Penalties': [2, 1, 0],\n",
       " 'Vision': [2, 1, 0],\n",
       " 'Crossing': [2, 1, 0],\n",
       " 'Free_Kick': [2, 1, 0],\n",
       " 'Short_Passing': [2, 1, 0],\n",
       " 'Long_Passing': [2, 1, 0],\n",
       " 'Curve': [2, 1, 0],\n",
       " 'Agility': [2, 1, 0],\n",
       " 'Balance': [2, 1, 0],\n",
       " 'Reactions': [2, 1, 0],\n",
       " 'Ball_Control': [2, 1, 0],\n",
       " 'Dribbling': [2],\n",
       " 'Interceptions': [2, 1, 0],\n",
       " 'Heading': [2, 1, 0],\n",
       " 'Marking': [2, 1, 0],\n",
       " 'Stand_Tackle': [2, 1, 0],\n",
       " 'Sliding_Tackle': [2, 1, 0],\n",
       " 'Jumping': [2, 1, 0],\n",
       " 'Strength': [2, 1, 0],\n",
       " 'Aggression': [2, 1, 0]}"
      ]
     },
     "execution_count": 6,
     "metadata": {},
     "output_type": "execute_result"
    }
   ],
   "source": [
    "new_static_table_Dribbling_p"
   ]
  },
  {
   "cell_type": "code",
   "execution_count": 7,
   "metadata": {},
   "outputs": [
    {
     "data": {
      "text/plain": [
       "{'Acceleration': [2, 1, 0],\n",
       " 'Sprint_Speed': [2, 1, 0],\n",
       " 'Positioning': [2, 1, 0],\n",
       " 'Finishing': [2, 1, 0],\n",
       " 'Shot_Power': [2, 1, 0],\n",
       " 'Long_Shot': [2, 1, 0],\n",
       " 'Volleys': [2, 1, 0],\n",
       " 'Penalties': [2, 1, 0],\n",
       " 'Vision': [2, 1, 0],\n",
       " 'Crossing': [2, 1, 0],\n",
       " 'Free_Kick': [2, 1, 0],\n",
       " 'Short_Passing': [2, 1, 0],\n",
       " 'Long_Passing': [2, 1, 0],\n",
       " 'Curve': [2, 1, 0],\n",
       " 'Agility': [2, 1, 0],\n",
       " 'Balance': [2, 1, 0],\n",
       " 'Reactions': [2, 1, 0],\n",
       " 'Ball_Control': [2, 1, 0],\n",
       " 'Dribbling': [1, 0],\n",
       " 'Interceptions': [2, 1, 0],\n",
       " 'Heading': [2, 1, 0],\n",
       " 'Marking': [2, 1, 0],\n",
       " 'Stand_Tackle': [2, 1, 0],\n",
       " 'Sliding_Tackle': [2, 1, 0],\n",
       " 'Jumping': [2, 1, 0],\n",
       " 'Strength': [2, 1, 0],\n",
       " 'Aggression': [2, 1, 0]}"
      ]
     },
     "execution_count": 7,
     "metadata": {},
     "output_type": "execute_result"
    }
   ],
   "source": [
    "new_static_table_Dribbling_n"
   ]
  },
  {
   "cell_type": "markdown",
   "metadata": {},
   "source": [
    "# remove not satisfied"
   ]
  },
  {
   "cell_type": "code",
   "execution_count": 8,
   "metadata": {},
   "outputs": [],
   "source": [
    "ability_type = list(static_table.keys())"
   ]
  },
  {
   "cell_type": "code",
   "execution_count": 9,
   "metadata": {},
   "outputs": [
    {
     "data": {
      "text/plain": [
       "['Acceleration',\n",
       " 'Sprint_Speed',\n",
       " 'Positioning',\n",
       " 'Finishing',\n",
       " 'Shot_Power',\n",
       " 'Long_Shot',\n",
       " 'Volleys',\n",
       " 'Penalties',\n",
       " 'Vision',\n",
       " 'Crossing',\n",
       " 'Free_Kick',\n",
       " 'Short_Passing',\n",
       " 'Long_Passing',\n",
       " 'Curve',\n",
       " 'Agility',\n",
       " 'Balance',\n",
       " 'Reactions',\n",
       " 'Ball_Control',\n",
       " 'Dribbling',\n",
       " 'Interceptions',\n",
       " 'Heading',\n",
       " 'Marking',\n",
       " 'Stand_Tackle',\n",
       " 'Sliding_Tackle',\n",
       " 'Jumping',\n",
       " 'Strength',\n",
       " 'Aggression']"
      ]
     },
     "execution_count": 9,
     "metadata": {},
     "output_type": "execute_result"
    }
   ],
   "source": [
    "ability_type"
   ]
  },
  {
   "cell_type": "code",
   "execution_count": 10,
   "metadata": {},
   "outputs": [],
   "source": [
    "for player_static in all_player_static:\n",
    "    if (player_static[ability_type.index('Long_Shot')] and player_static[ability_type.index('Stand_Tackle')]\n",
    "       and player_static[ability_type.index('Vision')] and player_static[ability_type.index('Short_Passing')]\n",
    "         and player_static[ability_type.index('Dribbling')]) == 2:\n",
    "        all_player_static_p.append(player_static)\n",
    "        CM_label.append('yes')\n",
    "    else:\n",
    "        all_player_static_n.append(player_static)\n",
    "        CM_label.append('no')\n"
   ]
  },
  {
   "cell_type": "code",
   "execution_count": 11,
   "metadata": {},
   "outputs": [
    {
     "data": {
      "text/plain": [
       "1"
      ]
     },
     "execution_count": 11,
     "metadata": {},
     "output_type": "execute_result"
    }
   ],
   "source": [
    "player_static[ability_type.index('Dribbling')]"
   ]
  },
  {
   "cell_type": "code",
   "execution_count": 12,
   "metadata": {},
   "outputs": [
    {
     "data": {
      "text/plain": [
       "0"
      ]
     },
     "execution_count": 12,
     "metadata": {},
     "output_type": "execute_result"
    }
   ],
   "source": [
    "player_static[ability_type.index('Vision')]"
   ]
  },
  {
   "cell_type": "markdown",
   "metadata": {},
   "source": [
    "# shuffl_index"
   ]
  },
  {
   "cell_type": "code",
   "execution_count": 13,
   "metadata": {},
   "outputs": [],
   "source": [
    "number_total = 5 * number_positive + 5 * number_negative \n",
    "# + number_negative_wo_long_shot + number_negative_wo_stand_tackle\n",
    "train_index = [x for x in range(number_total)]\n",
    "shuffle(train_index)\n",
    "CM_label_type = ['yes', 'no']"
   ]
  },
  {
   "cell_type": "markdown",
   "metadata": {},
   "source": [
    "# multi_class"
   ]
  },
  {
   "cell_type": "code",
   "execution_count": 14,
   "metadata": {},
   "outputs": [],
   "source": [
    "from sklearn.model_selection import cross_val_score\n",
    "from sklearn.tree import DecisionTreeClassifier\n",
    "from sklearn import tree\n",
    "clf = DecisionTreeClassifier(random_state=0, max_depth =5)\n",
    "train_all_player_static = np.array(all_player_static)\n",
    "train_CM_label = np.array(CM_label)\n",
    "clf = clf.fit(train_all_player_static[train_index], train_CM_label[train_index])"
   ]
  },
  {
   "cell_type": "code",
   "execution_count": null,
   "metadata": {},
   "outputs": [],
   "source": []
  },
  {
   "cell_type": "code",
   "execution_count": 15,
   "metadata": {},
   "outputs": [
    {
     "data": {
      "text/plain": [
       "array([[0, 0, 2, ..., 0, 2, 0],\n",
       "       [0, 2, 0, ..., 0, 2, 2],\n",
       "       [0, 0, 0, ..., 1, 1, 0],\n",
       "       ...,\n",
       "       [1, 1, 2, ..., 1, 2, 0],\n",
       "       [1, 1, 0, ..., 1, 1, 1],\n",
       "       [1, 2, 2, ..., 1, 0, 0]])"
      ]
     },
     "execution_count": 15,
     "metadata": {},
     "output_type": "execute_result"
    }
   ],
   "source": [
    "train_all_player_static[train_index]"
   ]
  },
  {
   "cell_type": "markdown",
   "metadata": {},
   "source": [
    "# feature = 7"
   ]
  },
  {
   "cell_type": "code",
   "execution_count": 16,
   "metadata": {},
   "outputs": [],
   "source": [
    "# import matplotlib.pyplot as plt\n",
    "# fig, ax = plt.subplots(figsize=(50, 50))\n",
    "# tree.plot_tree(clf, fontsize=6, filled=True,feature_names = ability_type, class_names = CM_label_type ,impurity =True)\n",
    "# plt.savefig('tree_high_dpi_DT_15000_float.jpg', dpi=150,)"
   ]
  },
  {
   "cell_type": "code",
   "execution_count": 17,
   "metadata": {},
   "outputs": [
    {
     "data": {
      "image/png": "[encoded data removed]",
      "text/plain": [
       "<Figure size 1080x1080 with 1 Axes>"
      ]
     },
     "metadata": {
      "needs_background": "light"
     },
     "output_type": "display_data"
    }
   ],
   "source": [
    "import matplotlib.pyplot as plt\n",
    "fig, ax = plt.subplots(figsize=(15, 15))\n",
    "tree.plot_tree(clf, fontsize=10, filled=True,feature_names = ability_type, class_names = CM_label_type ,impurity =True)\n",
    "plt.savefig('tree_high_dpi_DT_10000_cam_cdm.jpg', dpi=150,)"
   ]
  },
  {
   "cell_type": "code",
   "execution_count": null,
   "metadata": {},
   "outputs": [],
   "source": []
  },
  {
   "cell_type": "code",
   "execution_count": null,
   "metadata": {},
   "outputs": [],
   "source": []
  },
  {
   "cell_type": "code",
   "execution_count": null,
   "metadata": {},
   "outputs": [],
   "source": []
  }
 ],
 "metadata": {
  "kernelspec": {
   "display_name": "tensorflow3",
   "language": "python",
   "name": "tensorflow3"
  },
  "language_info": {
   "codemirror_mode": {
    "name": "ipython",
    "version": 3
   },
   "file_extension": ".py",
   "mimetype": "text/x-python",
   "name": "python",
   "nbconvert_exporter": "python",
   "pygments_lexer": "ipython3",
   "version": "3.6.9"
  }
 },
 "nbformat": 4,
 "nbformat_minor": 4
}
