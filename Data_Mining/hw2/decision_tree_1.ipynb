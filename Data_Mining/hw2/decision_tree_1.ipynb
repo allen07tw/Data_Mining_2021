{
 "cells": [
  {
   "cell_type": "markdown",
   "metadata": {},
   "source": [
    "# perfect_girl"
   ]
  },
  {
   "cell_type": "code",
   "execution_count": 1,
   "metadata": {},
   "outputs": [],
   "source": [
    "eye_color = []\n",
    "hair_color = []\n",
    "weight = []\n",
    "brust = []\n",
    "skin_color = []\n",
    "country =[]\n",
    "skin_color = []\n",
    "education = []\n",
    "personality = []\n",
    "butt = []\n",
    "favorite_soprt =[]\n",
    "height = []\n",
    "shoulder = []\n",
    "fit = []\n",
    "hair_type = []\n",
    "skin_condition = []\n",
    "blood_type = []\n",
    "waist_line = []"
   ]
  },
  {
   "cell_type": "markdown",
   "metadata": {},
   "source": [
    "# perfect_midfeild"
   ]
  },
  {
   "cell_type": "code",
   "execution_count": 2,
   "metadata": {},
   "outputs": [],
   "source": [
    "static_table = {\n",
    "'Acceleration' : ['Acceleration_strong', 'Acceleration_normal', 'Acceleration_weak'],\n",
    "'Sprint_Speed' : ['Sprint_Speed_strong', 'Sprint_Speed_normal', 'Sprint_Speed_weak'],\n",
    "'Positioning': ['Positioning_strong', 'Positioning_normal', 'Positioning_weak'],\n",
    "'Finishing': ['Finishing_strong', 'Finishing_normal', 'Finishing_weak'],\n",
    "'Shot_Power': ['Shot Power_strong', 'Shot Power_normal', 'Shot Power_weak'],\n",
    "'Long_Shot' : ['Long_Shot strong', 'Long_Shot normal', 'Long_Shot weak'],\n",
    "'Volleys': ['Volleys strong', 'Volleys normal', 'Volleys weak'],\n",
    "'Penalties' : ['Penalties strong', 'Penalties normal', 'Penalties weak'],\n",
    "'Vision' : ['Vision strong', 'Vision normal', 'Vision weak'],\n",
    "'Crossing' : ['Crossing strong', 'Crossing normal', 'Crossing weak'],\n",
    "'Free_Kick' : ['Free_Kick strong', 'Free_Kick normal', 'Free_Kick weak'],\n",
    "'Short_Passing' : ['Short Passing strong', 'Short Passing normal', 'Short Passing weak'],\n",
    "'Long_Passing' : ['Long Passing strong', 'Long Passing normal', 'Long Passing weak'],\n",
    "'Curve' : ['Curve strong', 'Curve normal', 'Curve weak'],\n",
    "'Agility' : ['Agility strong', 'Agility normal', 'Agility weak'],\n",
    "'Balance' : ['Balance strong', 'Balance normal', 'Balance weak'],\n",
    "'Reactions' : ['Reactions strong', 'Reactions normal', 'Reactions weak'],\n",
    "'Ball_Control' : ['Ball_Control strong', 'Ball_Control normal', 'Ball_Control weak'],\n",
    "'Dribbling' : ['Dribbling strong', 'Dribbling normal', 'Dribbling weak'],\n",
    "'Interceptions' : ['Interceptions strong', 'Interceptions normal', 'Interceptions weak'],\n",
    "'Heading' : ['Heading strong', 'Heading normal', 'Heading weak'],\n",
    "'Marking' : ['Marking strong', 'Marking normal', 'Marking weak'],\n",
    "'Stand_Tackle' : ['Stand_Tackle strong', 'Stand_Tackle normal', 'Stand_Tackle weak'],\n",
    "'Sliding_Tackle' : ['Sliding_Tackle strong', 'Sliding_Tackle normal', 'Sliding_Tackle weak'],\n",
    "'Jumping' : ['Jumping strong', 'Jumping normal', 'Jumping weak'],\n",
    "'Strength' : ['Strength strong', 'Strength normal', 'Strength weak'],\n",
    "'Aggression' : ['Aggression strong', 'Aggression normal', 'Aggression weak'],}"
   ]
  },
  {
   "cell_type": "markdown",
   "metadata": {},
   "source": [
    "# feat =3\n",
    "Vision','Short_Passing','Long_Passing'"
   ]
  },
  {
   "cell_type": "code",
   "execution_count": 3,
   "metadata": {},
   "outputs": [],
   "source": [
    "static_table_postive = {\n",
    "'Acceleration' : ['Acceleration_strong', 'Acceleration_normal', 'Acceleration_weak'],\n",
    "'Sprint_Speed' : ['Sprint_Speed_strong', 'Sprint_Speed_normal', 'Sprint_Speed_weak'],\n",
    "'Positioning': ['Positioning_strong', 'Positioning_normal', 'Positioning_weak'],\n",
    "'Finishing': ['Finishing_strong', 'Finishing_normal', 'Finishing_weak'],\n",
    "'Shot_Power': ['Shot Power_strong', 'Shot Power_normal', 'Shot Power_weak'],\n",
    "'Long_Shot' : ['Long_Shot strong', 'Long_Shot normal', 'Long_Shot weak'],\n",
    "'Volleys': ['Volleys strong', 'Volleys normal', 'Volleys weak'],\n",
    "'Penalties' : ['Penalties strong', 'Penalties normal', 'Penalties weak'],\n",
    "'Vision' : ['Vision strong'],\n",
    "'Crossing' : ['Crossing strong', 'Crossing normal', 'Crossing weak'],\n",
    "'Free_Kick' : ['Free_Kick strong', 'Free_Kick normal', 'Free_Kick weak'],\n",
    "'Short_Passing' : ['Short Passing strong'],\n",
    "'Long_Passing' : ['Long Passing strong'],\n",
    "'Curve' : ['Curve strong', 'Curve normal', 'Curve weak'],\n",
    "'Agility' : ['Agility strong', 'Agility normal', 'Agility weak'],\n",
    "'Balance' : ['Balance strong', 'Balance normal', 'Balance weak'],\n",
    "'Reactions' : ['Reactions strong', 'Reactions normal', 'Reactions weak'],\n",
    "'Ball_Control' : ['Ball_Control strong', 'Ball_Control normal', 'Ball_Control weak'],\n",
    "'Dribbling' : ['Dribbling strong', 'Dribbling normal', 'Dribbling weak'],\n",
    "'Interceptions' : ['Interceptions strong', 'Interceptions normal', 'Interceptions weak'],\n",
    "'Heading' : ['Heading strong', 'Heading normal', 'Heading weak'],\n",
    "'Marking' : ['Marking strong', 'Marking normal', 'Marking weak'],\n",
    "'Stand_Tackle' : ['Stand_Tackle strong', 'Stand_Tackle normal', 'Stand_Tackle weak'],\n",
    "'Sliding_Tackle' : ['Sliding_Tackle strong', 'Sliding_Tackle normal', 'Sliding_Tackle weak'],\n",
    "'Jumping' : ['Jumping strong', 'Jumping normal', 'Jumping weak'],\n",
    "'Strength' : ['Strength strong', 'Strength normal', 'Strength weak'],\n",
    "'Aggression' : ['Aggression strong', 'Aggression normal', 'Aggression weak'],}\n",
    "\n",
    "static_table_negative = {\n",
    "'Acceleration' : ['Acceleration_strong', 'Acceleration_normal', 'Acceleration_weak'],\n",
    "'Sprint_Speed' : ['Sprint_Speed_strong', 'Sprint_Speed_normal', 'Sprint_Speed_weak'],\n",
    "'Positioning': ['Positioning_strong', 'Positioning_normal', 'Positioning_weak'],\n",
    "'Finishing': ['Finishing_strong', 'Finishing_normal', 'Finishing_weak'],\n",
    "'Shot_Power': ['Shot Power_strong', 'Shot Power_normal', 'Shot Power_weak'],\n",
    "'Long_Shot' : ['Long_Shot strong', 'Long_Shot normal', 'Long_Shot weak'],\n",
    "'Volleys': ['Volleys strong', 'Volleys normal', 'Volleys weak'],\n",
    "'Penalties' : ['Penalties strong', 'Penalties normal', 'Penalties weak'],\n",
    "'Vision' : ['Vision normal', 'Vision weak'],\n",
    "'Crossing' : ['Crossing strong', 'Crossing normal', 'Crossing weak'],\n",
    "'Free_Kick' : ['Free_Kick strong', 'Free_Kick normal', 'Free_Kick weak'],\n",
    "'Short_Passing' : ['Short Passing normal', 'Short Passing weak'],\n",
    "'Long_Passing' : ['Long Passing normal', 'Long Passing weak'],\n",
    "'Curve' : ['Curve strong', 'Curve normal', 'Curve weak'],\n",
    "'Agility' : ['Agility strong', 'Agility normal', 'Agility weak'],\n",
    "'Balance' : ['Balance strong', 'Balance normal', 'Balance weak'],\n",
    "'Reactions' : ['Reactions strong', 'Reactions normal', 'Reactions weak'],\n",
    "'Ball_Control' : ['Ball_Control strong', 'Ball_Control normal', 'Ball_Control weak'],\n",
    "'Dribbling' : ['Dribbling strong', 'Dribbling normal', 'Dribbling weak'],\n",
    "'Interceptions' : ['Interceptions strong', 'Interceptions normal', 'Interceptions weak'],\n",
    "'Heading' : ['Heading strong', 'Heading normal', 'Heading weak'],\n",
    "'Marking' : ['Marking strong', 'Marking normal', 'Marking weak'],\n",
    "'Stand_Tackle' : ['Stand_Tackle strong', 'Stand_Tackle normal', 'Stand_Tackle weak'],\n",
    "'Sliding_Tackle' : ['Sliding_Tackle strong', 'Sliding_Tackle normal', 'Sliding_Tackle weak'],\n",
    "'Jumping' : ['Jumping strong', 'Jumping normal', 'Jumping weak'],\n",
    "'Strength' : ['Strength strong', 'Strength normal', 'Strength weak'],\n",
    "'Aggression' : ['Aggression strong', 'Aggression normal', 'Aggression weak'],}"
   ]
  },
  {
   "cell_type": "markdown",
   "metadata": {},
   "source": [
    "# feat =7\n",
    "'Long_Shot','Vision','Short_Passing','Long_Passing','Ball_Control', 'Dribbling','Stand_Tackle'"
   ]
  },
  {
   "cell_type": "code",
   "execution_count": 4,
   "metadata": {},
   "outputs": [],
   "source": [
    "static_table_postive = {\n",
    "'Acceleration' : ['Acceleration_strong', 'Acceleration_normal', 'Acceleration_weak'],\n",
    "'Sprint_Speed' : ['Sprint_Speed', 'Sprint_Speed_normal', 'Sprint_Speed_weak'],\n",
    "'Positioning': ['Positioning_strong', 'Positioning_normal', 'Positioning_weak'],\n",
    "'Finishing': ['Finishing_strong', 'Finishing_normal', 'Finishing_weak'],\n",
    "'Shot_Power': ['Shot Power_strong', 'Shot Power_normal', 'Shot Power_weak'],\n",
    "'Long_Shot' : ['Long_Shot strong'],\n",
    "'Volleys': ['Volleys strong', 'Volleys normal', 'Volleys weak'],\n",
    "'Penalties' : ['Penalties strong', 'Penalties normal', 'Penalties weak'],\n",
    "'Vision' : ['Vision strong'],\n",
    "'Crossing' : ['Crossing strong', 'Crossing normal', 'Crossing weak'],\n",
    "'Free_Kick' : ['Free_Kick strong', 'Free_Kick normal', 'Free_Kick weak'],\n",
    "'Short_Passing' : ['Short Passing strong'],\n",
    "'Long_Passing' : ['Long Passing strong',],\n",
    "'Curve' : ['Curve strong', 'Curve normal', 'Curve weak'],\n",
    "'Agility' : ['Agility strong', 'Agility normal', 'Agility weak'],\n",
    "'Balance' : ['Balance strong', 'Balance normal', 'Balance weak'],\n",
    "'Reactions' : ['Reactions strong', 'Reactions normal', 'Reactions weak'],\n",
    "'Ball_Control' : ['Ball_Control strong'],\n",
    "'Dribbling' : ['Dribbling strong',],\n",
    "'Interceptions' : ['Interceptions strong', 'Interceptions normal', 'Interceptions weak'],\n",
    "'Heading' : ['Heading strong', 'Heading normal', 'Heading weak'],\n",
    "'Marking' : ['Marking strong', 'Marking normal', 'Marking weak'],\n",
    "'Stand_Tackle' : ['Stand_Tackle strong'],\n",
    "'Sliding_Tackle' : ['Sliding Tackle strong', 'Sliding Tackle normal', 'Sliding Tackle weak'],\n",
    "'Jumping' : ['Jumping strong', 'Jumping normal', 'Jumping weak'],\n",
    "'Strength' : ['Strength strong', 'Strength normal', 'Strength weak'],\n",
    "'Aggression' : ['Aggression strong', 'Aggression normal', 'Aggression weak'],}\n",
    "\n",
    "static_table_negative = {\n",
    "'Acceleration' : ['Acceleration_strong', 'Acceleration_normal', 'Acceleration_weak'],\n",
    "'Sprint_Speed' : ['Sprint_Speed_strong', 'Sprint_Speed_normal', 'Sprint_Speed_weak'],\n",
    "'Positioning': ['Positioning_strong', 'Positioning_normal', 'Positioning_weak'],\n",
    "'Finishing': ['Finishing_strong', 'Finishing_normal', 'Finishing_weak'],\n",
    "'Shot_Power': ['Shot Power_strong', 'Shot Power_normal', 'Shot Power_weak'],\n",
    "'Long_Shot' : ['Long_Shot normal', 'Long_Shot weak'],\n",
    "'Volleys': ['Volleys strong', 'Volleys normal', 'Volleys weak'],\n",
    "'Penalties' : ['Penalties strong', 'Penalties normal', 'Penalties weak'],\n",
    "'Vision' : ['Vision normal', 'Vision weak'],\n",
    "'Crossing' : ['Crossing strong', 'Crossing normal', 'Crossing weak'],\n",
    "'Free_Kick' : ['Free_Kick strong', 'Free_Kick normal', 'Free_Kick weak'],\n",
    "'Short_Passing' : ['Short Passing normal', 'Short Passing weak'],\n",
    "'Long_Passing' : ['Long Passing normal', 'Long Passing weak'],\n",
    "'Curve' : ['Curve strong', 'Curve normal', 'Curve weak'],\n",
    "'Agility' : ['Agility strong', 'Agility normal', 'Agility weak'],\n",
    "'Balance' : ['Balance strong', 'Balance normal', 'Balance weak'],\n",
    "'Reactions' : ['Reactions strong', 'Reactions normal', 'Reactions weak'],\n",
    "'Ball_Control' : ['Ball_Control normal', 'Ball_Control weak'],\n",
    "'Dribbling' : ['Dribbling normal', 'Dribbling weak'],\n",
    "'Interceptions' : ['Interceptions strong', 'Interceptions normal', 'Interceptions weak'],\n",
    "'Heading' : ['Heading strong', 'Heading normal', 'Heading weak'],\n",
    "'Marking' : ['Marking strong', 'Marking normal', 'Marking weak'],\n",
    "'Stand_Tackle' : ['Stand_Tackle normal', 'Stand_Tackle weak'],\n",
    "'Sliding_Tackle' : ['Sliding Tackle strong', 'Sliding Tackle normal', 'Sliding Tackle weak'],\n",
    "'Jumping' : ['Jumping strong', 'Jumping normal', 'Jumping weak'],\n",
    "'Strength' : ['Strength strong', 'Strength normal', 'Strength weak'],\n",
    "'Aggression' : ['Aggression strong', 'Aggression normal', 'Aggression weak'],}"
   ]
  },
  {
   "cell_type": "markdown",
   "metadata": {},
   "source": [
    "# feat = 11\n",
    "'Long_Shot','Vision','Short_Passing','Long_Passing','Ball_Control', 'Dribbling','Stand_Tackle','Agility','Crossing','Strength','Balance'"
   ]
  },
  {
   "cell_type": "code",
   "execution_count": 5,
   "metadata": {},
   "outputs": [],
   "source": [
    "static_table_postive = {\n",
    "'Acceleration' : ['Acceleration_strong', 'Acceleration_normal', 'Acceleration_weak'],\n",
    "'Sprint_Speed' : ['Sprint_Speed', 'Sprint_Speed_normal', 'Sprint_Speed_weak'],\n",
    "'Positioning': ['Positioning_strong', 'Positioning_normal', 'Positioning_weak'],\n",
    "'Finishing': ['Finishing_strong', 'Finishing_normal', 'Finishing_weak'],\n",
    "'Shot_Power': ['Shot Power_strong', 'Shot Power_normal', 'Shot Power_weak'],\n",
    "'Long_Shot' : ['Long_Shot strong'],\n",
    "'Volleys': ['Volleys strong', 'Volleys normal', 'Volleys weak'],\n",
    "'Penalties' : ['Penalties strong', 'Penalties normal', 'Penalties weak'],\n",
    "'Vision' : ['Vision strong'],\n",
    "'Crossing' : ['Crossing strong'],\n",
    "'Free_Kick' : ['Free_Kick strong', 'Free_Kick normal', 'Free_Kick weak'],\n",
    "'Short_Passing' : ['Short Passing strong'],\n",
    "'Long_Passing' : ['Long Passing strong',],\n",
    "'Curve' : ['Curve strong', 'Curve normal', 'Curve weak'],\n",
    "'Agility' : ['Agility strong'],\n",
    "'Balance' : ['Balance strong'],\n",
    "'Reactions' : ['Reactions strong', 'Reactions normal', 'Reactions weak'],\n",
    "'Ball_Control' : ['Ball_Control strong'],\n",
    "'Dribbling' : ['Dribbling strong',],\n",
    "'Interceptions' : ['Interceptions strong', 'Interceptions normal', 'Interceptions weak'],\n",
    "'Heading' : ['Heading strong', 'Heading normal', 'Heading weak'],\n",
    "'Marking' : ['Marking strong', 'Marking normal', 'Marking weak'],\n",
    "'Stand_Tackle' : ['Stand_Tackle strong'],\n",
    "'Sliding_Tackle' : ['Sliding Tackle strong', 'Sliding Tackle normal', 'Sliding Tackle weak'],\n",
    "'Jumping' : ['Jumping strong', 'Jumping normal', 'Jumping weak'],\n",
    "'Strength' : ['Strength strong'],\n",
    "'Aggression' : ['Aggression strong', 'Aggression normal', 'Aggression weak'],}\n",
    "\n",
    "static_table_negative = {\n",
    "'Acceleration' : ['Acceleration_strong', 'Acceleration_normal', 'Acceleration_weak'],\n",
    "'Sprint_Speed' : ['Sprint_Speed_strong', 'Sprint_Speed_normal', 'Sprint_Speed_weak'],\n",
    "'Positioning': ['Positioning_strong', 'Positioning_normal', 'Positioning_weak'],\n",
    "'Finishing': ['Finishing_strong', 'Finishing_normal', 'Finishing_weak'],\n",
    "'Shot_Power': ['Shot Power_strong', 'Shot Power_normal', 'Shot Power_weak'],\n",
    "'Long_Shot' : ['Long_Shot normal', 'Long_Shot weak'],\n",
    "'Volleys': ['Volleys strong', 'Volleys normal', 'Volleys weak'],\n",
    "'Penalties' : ['Penalties strong', 'Penalties normal', 'Penalties weak'],\n",
    "'Vision' : ['Vision normal', 'Vision weak'],\n",
    "'Crossing' : ['Crossing normal', 'Crossing weak'],\n",
    "'Free_Kick' : ['Free_Kick strong', 'Free_Kick normal', 'Free_Kick weak'],\n",
    "'Short_Passing' : ['Short Passing normal', 'Short Passing weak'],\n",
    "'Long_Passing' : ['Long Passing normal', 'Long Passing weak'],\n",
    "'Curve' : ['Curve strong', 'Curve normal', 'Curve weak'],\n",
    "'Agility' : ['Agility normal', 'Agility weak'],\n",
    "'Balance' : ['Balance normal', 'Balance weak'],\n",
    "'Reactions' : ['Reactions strong', 'Reactions normal', 'Reactions weak'],\n",
    "'Ball_Control' : ['Ball_Control normal', 'Ball_Control weak'],\n",
    "'Dribbling' : ['Dribbling normal', 'Dribbling weak'],\n",
    "'Interceptions' : ['Interceptions strong', 'Interceptions normal', 'Interceptions weak'],\n",
    "'Heading' : ['Heading strong', 'Heading normal', 'Heading weak'],\n",
    "'Marking' : ['Marking strong', 'Marking normal', 'Marking weak'],\n",
    "'Stand_Tackle' : ['Stand_Tackle normal', 'Stand_Tackle weak'],\n",
    "'Sliding_Tackle' : ['Sliding Tackle strong', 'Sliding Tackle normal', 'Sliding Tackle weak'],\n",
    "'Jumping' : ['Jumping strong', 'Jumping normal', 'Jumping weak'],\n",
    "'Strength' : ['Strength normal', 'Strength weak'],\n",
    "'Aggression' : ['Aggression strong', 'Aggression normal', 'Aggression weak'],}"
   ]
  },
  {
   "cell_type": "markdown",
   "metadata": {},
   "source": [
    "# feat =7 bin\n",
    "'Long_Shot','Vision','Short_Passing','Long_Passing','Ball_Control', 'Dribbling','Stand_Tackle'"
   ]
  },
  {
   "cell_type": "code",
   "execution_count": 6,
   "metadata": {},
   "outputs": [],
   "source": [
    "static_table_postive_bin = {\n",
    "'Acceleration' : ['Acceleration_strong', 'Acceleration_weak'],\n",
    "'Sprint_Speed' : ['Sprint_Speed', 'Sprint_Speed_weak'],\n",
    "'Positioning': ['Positioning_strong', 'Positioning_weak'],\n",
    "'Finishing': ['Finishing_strong', 'Finishing_weak'],\n",
    "'Shot_Power': ['Shot Power_strong', 'Shot Power_weak'],\n",
    "'Long_Shot' : ['Long_Shot strong'],\n",
    "'Volleys': ['Volleys strong', 'Volleys weak'],\n",
    "'Penalties' : ['Penalties strong', 'Penalties weak'],\n",
    "'Vision' : ['Vision strong'],\n",
    "'Crossing' : ['Crossing strong', 'Crossing weak'],\n",
    "'Free_Kick' : ['Free_Kick strong', 'Free_Kick weak'],\n",
    "'Short_Passing' : ['Short Passing strong'],\n",
    "'Long_Passing' : ['Long Passing strong',],\n",
    "'Curve' : ['Curve strong', 'Curve weak'],\n",
    "'Agility' : ['Agility strong', 'Agility weak'],\n",
    "'Balance' : ['Balance strong', 'Balance weak'],\n",
    "'Reactions' : ['Reactions strong', 'Reactions weak'],\n",
    "'Ball_Control' : ['Ball_Control strong'],\n",
    "'Dribbling' : ['Dribbling strong',],\n",
    "'Interceptions' : ['Interceptions strong', 'Interceptions weak'],\n",
    "'Heading' : ['Heading strong', 'Heading weak'],\n",
    "'Marking' : ['Marking strong', 'Marking weak'],\n",
    "'Stand_Tackle' : ['Stand_Tackle strong'],\n",
    "'Sliding_Tackle' : ['Sliding Tackle strong', 'Sliding Tackle weak'],\n",
    "'Jumping' : ['Jumping strong', 'Jumping weak'],\n",
    "'Strength' : ['Strength strong', 'Strength weak'],\n",
    "'Aggression' : ['Aggression strong', 'Aggression weak'],}\n",
    "\n",
    "static_table_negative_bin = {\n",
    "'Acceleration' : ['Acceleration_strong', 'Acceleration_weak'],\n",
    "'Sprint_Speed' : ['Sprint_Speed_strong', 'Sprint_Speed_weak'],\n",
    "'Positioning': ['Positioning_strong', 'Positioning_weak'],\n",
    "'Finishing': ['Finishing_strong', 'Finishing_weak'],\n",
    "'Shot_Power': ['Shot Power_strong', 'Shot Power_weak'],\n",
    "'Long_Shot' : [ 'Long_Shot weak'],\n",
    "'Volleys': ['Volleys strong', 'Volleys weak'],\n",
    "'Penalties' : ['Penalties strong', 'Penalties weak'],\n",
    "'Vision' : [ 'Vision weak'],\n",
    "'Crossing' : ['Crossing strong', 'Crossing weak'],\n",
    "'Free_Kick' : ['Free_Kick strong', 'Free_Kick weak'],\n",
    "'Short_Passing' : [ 'Short Passing weak'],\n",
    "'Long_Passing' : [ 'Long Passing weak'],\n",
    "'Curve' : ['Curve strong', 'Curve weak'],\n",
    "'Agility' : ['Agility strong', 'Agility weak'],\n",
    "'Balance' : ['Balance strong', 'Balance weak'],\n",
    "'Reactions' : ['Reactions strong', 'Reactions weak'],\n",
    "'Ball_Control' : [ 'Ball_Control weak'],\n",
    "'Dribbling' : [ 'Dribbling weak'],\n",
    "'Interceptions' : ['Interceptions strong', 'Interceptions weak'],\n",
    "'Heading' : ['Heading strong', 'Heading weak'],\n",
    "'Marking' : ['Marking strong', 'Marking weak'],\n",
    "'Stand_Tackle' : [ 'Stand_Tackle weak'],\n",
    "'Sliding_Tackle' : ['Sliding Tackle strong', 'Sliding Tackle weak'],\n",
    "'Jumping' : ['Jumping strong', 'Jumping weak'],\n",
    "'Strength' : ['Strength strong', 'Strength weak'],\n",
    "'Aggression' : ['Aggression strong', 'Aggression weak'],}"
   ]
  },
  {
   "cell_type": "markdown",
   "metadata": {},
   "source": [
    "# new_static_table_to_bin"
   ]
  },
  {
   "cell_type": "code",
   "execution_count": 7,
   "metadata": {},
   "outputs": [],
   "source": [
    "new_static_table_postive = static_table_postive.copy()\n",
    "new_static_table_negative = static_table_negative.copy()\n",
    "static_type_class = [2, 1, 0]\n",
    "static_type_class_negative = [1, 0]\n",
    "for static_type in new_static_table_postive.keys():\n",
    "    for idx, value in enumerate(new_static_table_postive[static_type]):\n",
    "        new_static_table_postive[static_type][idx] = static_type_class[idx]\n",
    "for static_type in new_static_table_negative.keys():\n",
    "    for idx, value in enumerate(new_static_table_negative[static_type]):\n",
    "        if len(new_static_table_negative[static_type]) == 2:\n",
    "            new_static_table_negative[static_type][idx] = static_type_class_negative[idx]\n",
    "        else:\n",
    "            new_static_table_negative[static_type][idx] = static_type_class[idx]"
   ]
  },
  {
   "cell_type": "code",
   "execution_count": null,
   "metadata": {},
   "outputs": [],
   "source": []
  },
  {
   "cell_type": "markdown",
   "metadata": {},
   "source": [
    "# new_static_table_bin"
   ]
  },
  {
   "cell_type": "code",
   "execution_count": 8,
   "metadata": {},
   "outputs": [],
   "source": [
    "new_static_table_postive_bin = static_table_postive_bin.copy()\n",
    "new_static_table_negative_bin = static_table_negative_bin.copy()\n",
    "static_type_class_bin = [1, 0]\n",
    "\n",
    "for static_type in new_static_table_postive_bin.keys():\n",
    "    for idx, value in enumerate(new_static_table_postive_bin[static_type]):\n",
    "        new_static_table_postive_bin[static_type][idx] = static_type_class_bin[idx]\n",
    "for static_type in new_static_table_negative_bin.keys():\n",
    "    for idx, value in enumerate(new_static_table_negative_bin[static_type]):\n",
    "        if len(new_static_table_negative_bin[static_type]) == 1:\n",
    "            new_static_table_negative_bin[static_type][idx] = 0\n",
    "        else:\n",
    "            new_static_table_negative_bin[static_type][idx] = static_type_class_bin[idx]"
   ]
  },
  {
   "cell_type": "markdown",
   "metadata": {},
   "source": [
    "# multi_choose"
   ]
  },
  {
   "cell_type": "code",
   "execution_count": 9,
   "metadata": {},
   "outputs": [],
   "source": [
    "import random\n",
    "from random import choice\n",
    "from random import shuffle\n",
    "import numpy as np\n",
    "number_positive = 5000\n",
    "number_negative = 10000\n",
    "all_player_static = []\n",
    "CM_label =[]\n",
    "for player_amount in range(number_positive):   \n",
    "    player_static = []\n",
    "    for ability_type in new_static_table_postive.keys():\n",
    "        player_static.append(choice(new_static_table_postive[ability_type]))\n",
    "    all_player_static.append(player_static)\n",
    "    CM_label.append('yes')\n",
    "for player_amount in range(number_negative):   \n",
    "    player_static = []\n",
    "    for ability_type in static_table_negative.keys():\n",
    "        player_static.append(choice(new_static_table_negative[ability_type]))\n",
    "    all_player_static.append(player_static)\n",
    "    CM_label.append('no')"
   ]
  },
  {
   "cell_type": "markdown",
   "metadata": {},
   "source": [
    "# shuffl_index"
   ]
  },
  {
   "cell_type": "code",
   "execution_count": 10,
   "metadata": {},
   "outputs": [],
   "source": [
    "number_total = number_positive + number_negative\n",
    "train_index = [x for x in range(number_total)]\n",
    "shuffle(train_index)\n",
    "CM_label_type = ['yes', 'no']"
   ]
  },
  {
   "cell_type": "markdown",
   "metadata": {},
   "source": [
    "# multi_class"
   ]
  },
  {
   "cell_type": "code",
   "execution_count": 11,
   "metadata": {},
   "outputs": [],
   "source": [
    "from sklearn.model_selection import cross_val_score\n",
    "from sklearn.tree import DecisionTreeClassifier\n",
    "from sklearn import tree\n",
    "clf = DecisionTreeClassifier(random_state=0)\n",
    "train_all_player_static = np.array(all_player_static)\n",
    "train_CM_label = np.array(CM_label)\n",
    "clf = clf.fit(train_all_player_static[train_index], train_CM_label[train_index])"
   ]
  },
  {
   "cell_type": "markdown",
   "metadata": {},
   "source": [
    "# bin_choose"
   ]
  },
  {
   "cell_type": "code",
   "execution_count": 12,
   "metadata": {},
   "outputs": [],
   "source": [
    "import random\n",
    "from random import choice\n",
    "from random import shuffle\n",
    "import numpy as np\n",
    "number_positive = 5000\n",
    "number_negative = 10000\n",
    "all_player_static_bin = []\n",
    "CM_label =[]\n",
    "for player_amount in range(number_positive):   \n",
    "    player_static_bin = []\n",
    "    for ability_type in new_static_table_postive_bin.keys():\n",
    "        player_static_bin.append(choice(new_static_table_postive_bin[ability_type]))\n",
    "    all_player_static_bin.append(player_static_bin)\n",
    "    CM_label.append('yes')\n",
    "for player_amount in range(number_negative):   \n",
    "    player_static_bin = []\n",
    "    for ability_type in static_table_negative_bin.keys():\n",
    "        player_static_bin.append(choice(new_static_table_negative_bin[ability_type]))\n",
    "    all_player_static_bin.append(player_static_bin)\n",
    "    CM_label.append('no')"
   ]
  },
  {
   "cell_type": "markdown",
   "metadata": {},
   "source": [
    "# shuffl_index"
   ]
  },
  {
   "cell_type": "code",
   "execution_count": 13,
   "metadata": {},
   "outputs": [],
   "source": [
    "number_total = number_positive + number_negative\n",
    "train_index = [x for x in range(number_total)]\n",
    "shuffle(train_index)\n",
    "CM_label_type = ['yes', 'no']"
   ]
  },
  {
   "cell_type": "markdown",
   "metadata": {},
   "source": [
    "# bin_class"
   ]
  },
  {
   "cell_type": "code",
   "execution_count": 14,
   "metadata": {},
   "outputs": [],
   "source": [
    "from sklearn.model_selection import cross_val_score\n",
    "from sklearn.tree import DecisionTreeClassifier\n",
    "from sklearn import tree\n",
    "clf = DecisionTreeClassifier(random_state=0)\n",
    "train_all_player_static_bin = np.array(all_player_static_bin)\n",
    "train_CM_label_bin = np.array(CM_label)\n",
    "clf = clf.fit(train_all_player_static_bin[train_index], train_CM_label_bin[train_index])"
   ]
  },
  {
   "cell_type": "code",
   "execution_count": 15,
   "metadata": {},
   "outputs": [
    {
     "data": {
      "text/plain": [
       "array([[0, 1, 1, ..., 1, 1, 1],\n",
       "       [1, 0, 1, ..., 1, 0, 1],\n",
       "       [0, 1, 0, ..., 1, 1, 0],\n",
       "       ...,\n",
       "       [1, 1, 1, ..., 0, 1, 1],\n",
       "       [1, 1, 0, ..., 1, 0, 1],\n",
       "       [1, 1, 0, ..., 1, 0, 1]])"
      ]
     },
     "execution_count": 15,
     "metadata": {},
     "output_type": "execute_result"
    }
   ],
   "source": [
    "train_all_player_static_bin"
   ]
  },
  {
   "cell_type": "code",
   "execution_count": 16,
   "metadata": {},
   "outputs": [
    {
     "data": {
      "text/plain": [
       "(15000, 27)"
      ]
     },
     "execution_count": 16,
     "metadata": {},
     "output_type": "execute_result"
    }
   ],
   "source": [
    "train_all_player_static_bin[train_index].shape"
   ]
  },
  {
   "cell_type": "code",
   "execution_count": 17,
   "metadata": {},
   "outputs": [
    {
     "data": {
      "text/plain": [
       "array(['yes', 'yes', 'yes', ..., 'no', 'no', 'no'], dtype='<U3')"
      ]
     },
     "execution_count": 17,
     "metadata": {},
     "output_type": "execute_result"
    }
   ],
   "source": [
    "train_CM_label_bin"
   ]
  },
  {
   "cell_type": "code",
   "execution_count": 18,
   "metadata": {},
   "outputs": [
    {
     "data": {
      "text/plain": [
       "(15000,)"
      ]
     },
     "execution_count": 18,
     "metadata": {},
     "output_type": "execute_result"
    }
   ],
   "source": [
    "train_CM_label_bin[train_index].shape"
   ]
  },
  {
   "cell_type": "code",
   "execution_count": 19,
   "metadata": {},
   "outputs": [],
   "source": [
    "ability_type = list(new_static_table_negative.keys())"
   ]
  },
  {
   "cell_type": "markdown",
   "metadata": {},
   "source": [
    "# feature = 7"
   ]
  },
  {
   "cell_type": "code",
   "execution_count": 23,
   "metadata": {
    "scrolled": true
   },
   "outputs": [
    {
     "data": {
      "image/png": "[encoded data removed]",
      "text/plain": [
       "<Figure size 720x720 with 1 Axes>"
      ]
     },
     "metadata": {
      "needs_background": "light"
     },
     "output_type": "display_data"
    }
   ],
   "source": [
    "import matplotlib.pyplot as plt\n",
    "fig, ax = plt.subplots(figsize=(10, 10))\n",
    "tree.plot_tree(clf, fontsize=6, filled=True,feature_names = ability_type,class_names = CM_label_type ,impurity =True)\n",
    "plt.savefig('tree_high_dpi_DT_15000_data1.jpg', dpi=150,)"
   ]
  },
  {
   "cell_type": "markdown",
   "metadata": {},
   "source": [
    "# feature = 7 bin"
   ]
  },
  {
   "cell_type": "code",
   "execution_count": 21,
   "metadata": {},
   "outputs": [
    {
     "data": {
      "image/png": "[encoded data removed]",
      "text/plain": [
       "<Figure size 3600x3600 with 1 Axes>"
      ]
     },
     "metadata": {
      "needs_background": "light"
     },
     "output_type": "display_data"
    }
   ],
   "source": [
    "import matplotlib.pyplot as plt\n",
    "fig, ax = plt.subplots(figsize=(50, 50))\n",
    "tree.plot_tree(clf, fontsize=6, filled=True,feature_names = ability_type,class_names = CM_label_type ,impurity =True)\n",
    "plt.savefig('tree_high_dpi_DT_15000_.jpg', dpi=150,)"
   ]
  }
 ],
 "metadata": {
  "kernelspec": {
   "display_name": "tensorflow3",
   "language": "python",
   "name": "tensorflow3"
  },
  "language_info": {
   "codemirror_mode": {
    "name": "ipython",
    "version": 3
   },
   "file_extension": ".py",
   "mimetype": "text/x-python",
   "name": "python",
   "nbconvert_exporter": "python",
   "pygments_lexer": "ipython3",
   "version": "3.6.9"
  }
 },
 "nbformat": 4,
 "nbformat_minor": 4
}
