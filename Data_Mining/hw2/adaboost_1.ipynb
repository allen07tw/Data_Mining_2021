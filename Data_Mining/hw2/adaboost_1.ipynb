{
 "cells": [
  {
   "cell_type": "markdown",
   "metadata": {},
   "source": [
    "# perfect_midfeild"
   ]
  },
  {
   "cell_type": "code",
   "execution_count": 1,
   "metadata": {},
   "outputs": [],
   "source": [
    "static_table = {\n",
    "'Acceleration' : ['Acceleration_strong', 'Acceleration_normal', 'Acceleration_weak'],\n",
    "'Sprint_Speed' : ['Sprint_Speed_strong', 'Sprint_Speed_normal', 'Sprint_Speed_weak'],\n",
    "'Positioning': ['Positioning_strong', 'Positioning_normal', 'Positioning_weak'],\n",
    "'Finishing': ['Finishing_strong', 'Finishing_normal', 'Finishing_weak'],\n",
    "'Shot_Power': ['Shot Power_strong', 'Shot Power_normal', 'Shot Power_weak'],\n",
    "'Long_Shot' : ['Long_Shot strong', 'Long_Shot normal', 'Long_Shot weak'],\n",
    "'Volleys': ['Volleys strong', 'Volleys normal', 'Volleys weak'],\n",
    "'Penalties' : ['Penalties strong', 'Penalties normal', 'Penalties weak'],\n",
    "'Vision' : ['Vision strong', 'Vision normal', 'Vision weak'],\n",
    "'Crossing' : ['Crossing strong', 'Crossing normal', 'Crossing weak'],\n",
    "'Free_Kick' : ['Free_Kick strong', 'Free_Kick normal', 'Free_Kick weak'],\n",
    "'Short_Passing' : ['Short Passing strong', 'Short Passing normal', 'Short Passing weak'],\n",
    "'Long_Passing' : ['Long Passing strong', 'Long Passing normal', 'Long Passing weak'],\n",
    "'Curve' : ['Curve strong', 'Curve normal', 'Curve weak'],\n",
    "'Agility' : ['Agility strong', 'Agility normal', 'Agility weak'],\n",
    "'Balance' : ['Balance strong', 'Balance normal', 'Balance weak'],\n",
    "'Reactions' : ['Reactions strong', 'Reactions normal', 'Reactions weak'],\n",
    "'Ball_Control' : ['Ball_Control strong', 'Ball_Control normal', 'Ball_Control weak'],\n",
    "'Dribbling' : ['Dribbling strong', 'Dribbling normal', 'Dribbling weak'],\n",
    "'Interceptions' : ['Interceptions strong', 'Interceptions normal', 'Interceptions weak'],\n",
    "'Heading' : ['Heading strong', 'Heading normal', 'Heading weak'],\n",
    "'Marking' : ['Marking strong', 'Marking normal', 'Marking weak'],\n",
    "'Stand_Tackle' : ['Stand_Tackle strong', 'Stand_Tackle normal', 'Stand_Tackle weak'],\n",
    "'Sliding_Tackle' : ['Sliding_Tackle strong', 'Sliding_Tackle normal', 'Sliding_Tackle weak'],\n",
    "'Jumping' : ['Jumping strong', 'Jumping normal', 'Jumping weak'],\n",
    "'Strength' : ['Strength strong', 'Strength normal', 'Strength weak'],\n",
    "'Aggression' : ['Aggression strong', 'Aggression normal', 'Aggression weak'],}"
   ]
  },
  {
   "cell_type": "code",
   "execution_count": 2,
   "metadata": {},
   "outputs": [],
   "source": [
    "static_table_postive_cdm = {\n",
    "'Acceleration' : ['Acceleration_strong', 'Acceleration_normal', 'Acceleration_weak'],\n",
    "'Sprint_Speed' : ['Sprint_Speed', 'Sprint_Speed_normal', 'Sprint_Speed_weak'],\n",
    "'Positioning': ['Positioning_strong', 'Positioning_normal', 'Positioning_weak'],\n",
    "'Finishing': ['Finishing_strong', 'Finishing_normal', 'Finishing_weak'],\n",
    "'Shot_Power': ['Shot Power_strong', 'Shot Power_normal', 'Shot Power_weak'],\n",
    "'Long_Shot' : ['Long_Shot strong', 'Long_Shot normal', 'Long_Shot weak'],\n",
    "'Volleys': ['Volleys strong', 'Volleys normal', 'Volleys weak'],\n",
    "'Penalties' : ['Penalties strong', 'Penalties normal', 'Penalties weak'],\n",
    "'Vision' : ['Vision strong'],\n",
    "'Crossing' : ['Crossing strong', 'Crossing normal', 'Crossing weak'],\n",
    "'Free_Kick' : ['Free_Kick strong', 'Free_Kick normal', 'Free_Kick weak'],\n",
    "'Short_Passing' : ['Short Passing strong'],\n",
    "'Long_Passing' : ['Long Passing strong',],\n",
    "'Curve' : ['Curve strong', 'Curve normal', 'Curve weak'],\n",
    "'Agility' : ['Agility strong', 'Agility normal', 'Agility weak'],\n",
    "'Balance' : ['Balance strong', 'Balance normal', 'Balance weak'],\n",
    "'Reactions' : ['Reactions strong', 'Reactions normal', 'Reactions weak'],\n",
    "'Ball_Control' : ['Ball_Control strong'],\n",
    "'Dribbling' : ['Dribbling strong',],\n",
    "'Interceptions' : ['Interceptions strong', 'Interceptions normal', 'Interceptions weak'],\n",
    "'Heading' : ['Heading strong', 'Heading normal', 'Heading weak'],\n",
    "'Marking' : ['Marking strong', 'Marking normal', 'Marking weak'],\n",
    "'Stand_Tackle' : ['Stand_Tackle strong'],\n",
    "'Sliding_Tackle' : ['Sliding Tackle strong', 'Sliding Tackle normal', 'Sliding Tackle weak'],\n",
    "'Jumping' : ['Jumping strong', 'Jumping normal', 'Jumping weak'],\n",
    "'Strength' : ['Strength strong', 'Strength normal', 'Strength weak'],\n",
    "'Aggression' : ['Aggression strong', 'Aggression normal', 'Aggression weak'],}\n",
    "\n",
    "\n",
    "static_table_postive_cam = {\n",
    "'Acceleration' : ['Acceleration_strong', 'Acceleration_normal', 'Acceleration_weak'],\n",
    "'Sprint_Speed' : ['Sprint_Speed', 'Sprint_Speed_normal', 'Sprint_Speed_weak'],\n",
    "'Positioning': ['Positioning_strong', 'Positioning_normal', 'Positioning_weak'],\n",
    "'Finishing': ['Finishing_strong', 'Finishing_normal', 'Finishing_weak'],\n",
    "'Shot_Power': ['Shot Power_strong', 'Shot Power_normal', 'Shot Power_weak'],\n",
    "'Long_Shot' : ['Long_Shot strong',],\n",
    "'Volleys': ['Volleys strong', 'Volleys normal', 'Volleys weak'],\n",
    "'Penalties' : ['Penalties strong', 'Penalties normal', 'Penalties weak'],\n",
    "'Vision' : ['Vision strong'],\n",
    "'Crossing' : ['Crossing strong', 'Crossing normal', 'Crossing weak'],\n",
    "'Free_Kick' : ['Free_Kick strong', 'Free_Kick normal', 'Free_Kick weak'],\n",
    "'Short_Passing' : ['Short Passing strong'],\n",
    "'Long_Passing' : ['Long Passing strong',],\n",
    "'Curve' : ['Curve strong', 'Curve normal', 'Curve weak'],\n",
    "'Agility' : ['Agility strong', 'Agility normal', 'Agility weak'],\n",
    "'Balance' : ['Balance strong', 'Balance normal', 'Balance weak'],\n",
    "'Reactions' : ['Reactions strong', 'Reactions normal', 'Reactions weak'],\n",
    "'Ball_Control' : ['Ball_Control strong'],\n",
    "'Dribbling' : ['Dribbling strong',],\n",
    "'Interceptions' : ['Interceptions strong', 'Interceptions normal', 'Interceptions weak'],\n",
    "'Heading' : ['Heading strong', 'Heading normal', 'Heading weak'],\n",
    "'Marking' : ['Marking strong', 'Marking normal', 'Marking weak'],\n",
    "'Stand_Tackle' : ['Stand_Tackle strong','Stand_Tackle normal', 'Stand_Tackle weak'],\n",
    "'Sliding_Tackle' : ['Sliding Tackle strong', 'Sliding Tackle normal', 'Sliding Tackle weak'],\n",
    "'Jumping' : ['Jumping strong', 'Jumping normal', 'Jumping weak'],\n",
    "'Strength' : ['Strength strong', 'Strength normal', 'Strength weak'],\n",
    "'Aggression' : ['Aggression strong', 'Aggression normal', 'Aggression weak'],}"
   ]
  },
  {
   "cell_type": "code",
   "execution_count": 3,
   "metadata": {},
   "outputs": [],
   "source": [
    "static_table_postive = {\n",
    "'Acceleration' : ['Acceleration_strong', 'Acceleration_normal', 'Acceleration_weak'],\n",
    "'Sprint_Speed' : ['Sprint_Speed', 'Sprint_Speed_normal', 'Sprint_Speed_weak'],\n",
    "'Positioning': ['Positioning_strong', 'Positioning_normal', 'Positioning_weak'],\n",
    "'Finishing': ['Finishing_strong', 'Finishing_normal', 'Finishing_weak'],\n",
    "'Shot_Power': ['Shot Power_strong', 'Shot Power_normal', 'Shot Power_weak'],\n",
    "'Long_Shot' : ['Long_Shot strong', 'Long_Shot normal'],\n",
    "'Volleys': ['Volleys strong', 'Volleys normal', 'Volleys weak'],\n",
    "'Penalties' : ['Penalties strong', 'Penalties normal', 'Penalties weak'],\n",
    "'Vision' : ['Vision strong'],\n",
    "'Crossing' : ['Crossing strong', 'Crossing normal', 'Crossing weak'],\n",
    "'Free_Kick' : ['Free_Kick strong', 'Free_Kick normal', 'Free_Kick weak'],\n",
    "'Short_Passing' : ['Short Passing strong'],\n",
    "'Long_Passing' : ['Long Passing strong',],\n",
    "'Curve' : ['Curve strong', 'Curve normal', 'Curve weak'],\n",
    "'Agility' : ['Agility strong', 'Agility normal', 'Agility weak'],\n",
    "'Balance' : ['Balance strong', 'Balance normal', 'Balance weak'],\n",
    "'Reactions' : ['Reactions strong', 'Reactions normal', 'Reactions weak'],\n",
    "'Ball_Control' : ['Ball_Control strong'],\n",
    "'Dribbling' : ['Dribbling strong',],\n",
    "'Interceptions' : ['Interceptions strong', 'Interceptions normal', 'Interceptions weak'],\n",
    "'Heading' : ['Heading strong', 'Heading normal', 'Heading weak'],\n",
    "'Marking' : ['Marking strong', 'Marking normal', 'Marking weak'],\n",
    "'Stand_Tackle' : ['Stand_Tackle strong', 'Stand_Tackle normal',],\n",
    "'Sliding_Tackle' : ['Sliding Tackle strong', 'Sliding Tackle normal', 'Sliding Tackle weak'],\n",
    "'Jumping' : ['Jumping strong', 'Jumping normal', 'Jumping weak'],\n",
    "'Strength' : ['Strength strong', 'Strength normal', 'Strength weak'],\n",
    "'Aggression' : ['Aggression strong', 'Aggression normal', 'Aggression weak'],}"
   ]
  },
  {
   "cell_type": "markdown",
   "metadata": {},
   "source": [
    "# feat =7\n",
    "'Long_Shot','Vision','Short_Passing','Long_Passing','Ball_Control', 'Dribbling','Stand_Tackle'"
   ]
  },
  {
   "cell_type": "code",
   "execution_count": 4,
   "metadata": {},
   "outputs": [],
   "source": [
    "import copy\n",
    "static_table_postive_cm = {\n",
    "'Acceleration' : ['Acceleration_strong', 'Acceleration_normal', 'Acceleration_weak'],\n",
    "'Sprint_Speed' : ['Sprint_Speed', 'Sprint_Speed_normal', 'Sprint_Speed_weak'],\n",
    "'Positioning': ['Positioning_strong', 'Positioning_normal', 'Positioning_weak'],\n",
    "'Finishing': ['Finishing_strong', 'Finishing_normal', 'Finishing_weak'],\n",
    "'Shot_Power': ['Shot Power_strong', 'Shot Power_normal', 'Shot Power_weak'],\n",
    "'Long_Shot' : ['Long_Shot strong',],\n",
    "'Volleys': ['Volleys strong', 'Volleys normal', 'Volleys weak'],\n",
    "'Penalties' : ['Penalties strong', 'Penalties normal', 'Penalties weak'],\n",
    "'Vision' : ['Vision strong'],\n",
    "'Crossing' : ['Crossing strong', 'Crossing normal', 'Crossing weak'],\n",
    "'Free_Kick' : ['Free_Kick strong', 'Free_Kick normal', 'Free_Kick weak'],\n",
    "'Short_Passing' : ['Short Passing strong'],\n",
    "'Long_Passing' : ['Long Passing strong',],\n",
    "'Curve' : ['Curve strong', 'Curve normal', 'Curve weak'],\n",
    "'Agility' : ['Agility strong', 'Agility normal', 'Agility weak'],\n",
    "'Balance' : ['Balance strong', 'Balance normal', 'Balance weak'],\n",
    "'Reactions' : ['Reactions strong', 'Reactions normal', 'Reactions weak'],\n",
    "'Ball_Control' : ['Ball_Control strong'],\n",
    "'Dribbling' : ['Dribbling strong',],\n",
    "'Interceptions' : ['Interceptions strong', 'Interceptions normal', 'Interceptions weak'],\n",
    "'Heading' : ['Heading strong', 'Heading normal', 'Heading weak'],\n",
    "'Marking' : ['Marking strong', 'Marking normal', 'Marking weak'],\n",
    "'Stand_Tackle' : ['Stand_Tackle strong',],\n",
    "'Sliding_Tackle' : ['Sliding Tackle strong', 'Sliding Tackle normal', 'Sliding Tackle weak'],\n",
    "'Jumping' : ['Jumping strong', 'Jumping normal', 'Jumping weak'],\n",
    "'Strength' : ['Strength strong', 'Strength normal', 'Strength weak'],\n",
    "'Aggression' : ['Aggression strong', 'Aggression normal', 'Aggression weak'],}\n",
    "\n",
    "\n",
    "static_table_postive_cam = {\n",
    "'Acceleration' : ['Acceleration_strong', 'Acceleration_normal', 'Acceleration_weak'],\n",
    "'Sprint_Speed' : ['Sprint_Speed', 'Sprint_Speed_normal', 'Sprint_Speed_weak'],\n",
    "'Positioning': ['Positioning_strong', 'Positioning_normal', 'Positioning_weak'],\n",
    "'Finishing': ['Finishing_strong', 'Finishing_normal', 'Finishing_weak'],\n",
    "'Shot_Power': ['Shot Power_strong', 'Shot Power_normal', 'Shot Power_weak'],\n",
    "'Long_Shot' : ['Long_Shot strong',],\n",
    "'Volleys': ['Volleys strong', 'Volleys normal', 'Volleys weak'],\n",
    "'Penalties' : ['Penalties strong', 'Penalties normal', 'Penalties weak'],\n",
    "'Vision' : ['Vision strong'],\n",
    "'Crossing' : ['Crossing strong', 'Crossing normal', 'Crossing weak'],\n",
    "'Free_Kick' : ['Free_Kick strong', 'Free_Kick normal', 'Free_Kick weak'],\n",
    "'Short_Passing' : ['Short Passing strong'],\n",
    "'Long_Passing' : ['Long Passing strong',],\n",
    "'Curve' : ['Curve strong', 'Curve normal', 'Curve weak'],\n",
    "'Agility' : ['Agility strong', 'Agility normal', 'Agility weak'],\n",
    "'Balance' : ['Balance strong', 'Balance normal', 'Balance weak'],\n",
    "'Reactions' : ['Reactions strong', 'Reactions normal', 'Reactions weak'],\n",
    "'Ball_Control' : ['Ball_Control strong'],\n",
    "'Dribbling' : ['Dribbling strong',],\n",
    "'Interceptions' : ['Interceptions strong', 'Interceptions normal', 'Interceptions weak'],\n",
    "'Heading' : ['Heading strong', 'Heading normal', 'Heading weak'],\n",
    "'Marking' : ['Marking strong', 'Marking normal', 'Marking weak'],\n",
    "'Stand_Tackle' : ['Stand_Tackle strong','Stand_Tackle normal', 'Stand_Tackle weak'],\n",
    "'Sliding_Tackle' : ['Sliding Tackle strong', 'Sliding Tackle normal', 'Sliding Tackle weak'],\n",
    "'Jumping' : ['Jumping strong', 'Jumping normal', 'Jumping weak'],\n",
    "'Strength' : ['Strength strong', 'Strength normal', 'Strength weak'],\n",
    "'Aggression' : ['Aggression strong', 'Aggression normal', 'Aggression weak'],}\n",
    "\n",
    "\n",
    "remove_list = ['Long_Shot','Vision','Short_Passing','Long_Passing','Ball_Control', 'Dribbling','Stand_Tackle']\n",
    "\n",
    "static_table_negative_wo_long_shot = copy.deepcopy(static_table)\n",
    "del static_table_negative_wo_long_shot['Long_Shot'][0]\n",
    "static_table_negative_wo_stand_tackle = copy.deepcopy(static_table)\n",
    "del static_table_negative_wo_stand_tackle['Stand_Tackle'][0]"
   ]
  },
  {
   "cell_type": "code",
   "execution_count": 5,
   "metadata": {},
   "outputs": [
    {
     "data": {
      "text/plain": [
       "{'Acceleration': ['Acceleration_strong',\n",
       "  'Acceleration_normal',\n",
       "  'Acceleration_weak'],\n",
       " 'Sprint_Speed': ['Sprint_Speed', 'Sprint_Speed_normal', 'Sprint_Speed_weak'],\n",
       " 'Positioning': ['Positioning_strong',\n",
       "  'Positioning_normal',\n",
       "  'Positioning_weak'],\n",
       " 'Finishing': ['Finishing_strong', 'Finishing_normal', 'Finishing_weak'],\n",
       " 'Shot_Power': ['Shot Power_strong', 'Shot Power_normal', 'Shot Power_weak'],\n",
       " 'Long_Shot': ['Long_Shot strong'],\n",
       " 'Volleys': ['Volleys strong', 'Volleys normal', 'Volleys weak'],\n",
       " 'Penalties': ['Penalties strong', 'Penalties normal', 'Penalties weak'],\n",
       " 'Vision': ['Vision strong'],\n",
       " 'Crossing': ['Crossing strong', 'Crossing normal', 'Crossing weak'],\n",
       " 'Free_Kick': ['Free_Kick strong', 'Free_Kick normal', 'Free_Kick weak'],\n",
       " 'Short_Passing': ['Short Passing strong'],\n",
       " 'Long_Passing': ['Long Passing strong'],\n",
       " 'Curve': ['Curve strong', 'Curve normal', 'Curve weak'],\n",
       " 'Agility': ['Agility strong', 'Agility normal', 'Agility weak'],\n",
       " 'Balance': ['Balance strong', 'Balance normal', 'Balance weak'],\n",
       " 'Reactions': ['Reactions strong', 'Reactions normal', 'Reactions weak'],\n",
       " 'Ball_Control': ['Ball_Control strong'],\n",
       " 'Dribbling': ['Dribbling strong'],\n",
       " 'Interceptions': ['Interceptions strong',\n",
       "  'Interceptions normal',\n",
       "  'Interceptions weak'],\n",
       " 'Heading': ['Heading strong', 'Heading normal', 'Heading weak'],\n",
       " 'Marking': ['Marking strong', 'Marking normal', 'Marking weak'],\n",
       " 'Stand_Tackle': ['Stand_Tackle strong',\n",
       "  'Stand_Tackle normal',\n",
       "  'Stand_Tackle weak'],\n",
       " 'Sliding_Tackle': ['Sliding Tackle strong',\n",
       "  'Sliding Tackle normal',\n",
       "  'Sliding Tackle weak'],\n",
       " 'Jumping': ['Jumping strong', 'Jumping normal', 'Jumping weak'],\n",
       " 'Strength': ['Strength strong', 'Strength normal', 'Strength weak'],\n",
       " 'Aggression': ['Aggression strong', 'Aggression normal', 'Aggression weak']}"
      ]
     },
     "execution_count": 5,
     "metadata": {},
     "output_type": "execute_result"
    }
   ],
   "source": [
    "static_table_postive_cam"
   ]
  },
  {
   "cell_type": "code",
   "execution_count": 6,
   "metadata": {},
   "outputs": [
    {
     "data": {
      "text/plain": [
       "{'Acceleration': ['Acceleration_strong',\n",
       "  'Acceleration_normal',\n",
       "  'Acceleration_weak'],\n",
       " 'Sprint_Speed': ['Sprint_Speed_strong',\n",
       "  'Sprint_Speed_normal',\n",
       "  'Sprint_Speed_weak'],\n",
       " 'Positioning': ['Positioning_strong',\n",
       "  'Positioning_normal',\n",
       "  'Positioning_weak'],\n",
       " 'Finishing': ['Finishing_strong', 'Finishing_normal', 'Finishing_weak'],\n",
       " 'Shot_Power': ['Shot Power_strong', 'Shot Power_normal', 'Shot Power_weak'],\n",
       " 'Long_Shot': ['Long_Shot normal', 'Long_Shot weak'],\n",
       " 'Volleys': ['Volleys strong', 'Volleys normal', 'Volleys weak'],\n",
       " 'Penalties': ['Penalties strong', 'Penalties normal', 'Penalties weak'],\n",
       " 'Vision': ['Vision strong', 'Vision normal', 'Vision weak'],\n",
       " 'Crossing': ['Crossing strong', 'Crossing normal', 'Crossing weak'],\n",
       " 'Free_Kick': ['Free_Kick strong', 'Free_Kick normal', 'Free_Kick weak'],\n",
       " 'Short_Passing': ['Short Passing strong',\n",
       "  'Short Passing normal',\n",
       "  'Short Passing weak'],\n",
       " 'Long_Passing': ['Long Passing strong',\n",
       "  'Long Passing normal',\n",
       "  'Long Passing weak'],\n",
       " 'Curve': ['Curve strong', 'Curve normal', 'Curve weak'],\n",
       " 'Agility': ['Agility strong', 'Agility normal', 'Agility weak'],\n",
       " 'Balance': ['Balance strong', 'Balance normal', 'Balance weak'],\n",
       " 'Reactions': ['Reactions strong', 'Reactions normal', 'Reactions weak'],\n",
       " 'Ball_Control': ['Ball_Control strong',\n",
       "  'Ball_Control normal',\n",
       "  'Ball_Control weak'],\n",
       " 'Dribbling': ['Dribbling strong', 'Dribbling normal', 'Dribbling weak'],\n",
       " 'Interceptions': ['Interceptions strong',\n",
       "  'Interceptions normal',\n",
       "  'Interceptions weak'],\n",
       " 'Heading': ['Heading strong', 'Heading normal', 'Heading weak'],\n",
       " 'Marking': ['Marking strong', 'Marking normal', 'Marking weak'],\n",
       " 'Stand_Tackle': ['Stand_Tackle strong',\n",
       "  'Stand_Tackle normal',\n",
       "  'Stand_Tackle weak'],\n",
       " 'Sliding_Tackle': ['Sliding_Tackle strong',\n",
       "  'Sliding_Tackle normal',\n",
       "  'Sliding_Tackle weak'],\n",
       " 'Jumping': ['Jumping strong', 'Jumping normal', 'Jumping weak'],\n",
       " 'Strength': ['Strength strong', 'Strength normal', 'Strength weak'],\n",
       " 'Aggression': ['Aggression strong', 'Aggression normal', 'Aggression weak']}"
      ]
     },
     "execution_count": 6,
     "metadata": {},
     "output_type": "execute_result"
    }
   ],
   "source": [
    "static_table_negative_wo_long_shot"
   ]
  },
  {
   "cell_type": "markdown",
   "metadata": {},
   "source": [
    "# new_static_table_to_range"
   ]
  },
  {
   "cell_type": "code",
   "execution_count": 7,
   "metadata": {},
   "outputs": [],
   "source": [
    "from random import uniform\n",
    "\n",
    "\n",
    "\n",
    "# static_type_class = [uniform(10,15), uniform(5,10), uniform(0,5)]\n",
    "# static_type_class_negative = [uniform(5,10), uniform(0,5)]\n",
    "static_type_class = [2, 1, 0]\n",
    "static_type_class_negative = [1, 0]\n",
    "def new_static_table_postive_cm_gen():\n",
    "    new_static_table_postive = static_table_postive.copy()\n",
    "    for static_type in new_static_table_postive.keys():\n",
    "        for idx, value in enumerate(new_static_table_postive[static_type]):\n",
    "            new_static_table_postive[static_type][idx] = static_type_class[idx]\n",
    "    return new_static_table_postive\n",
    "\n",
    "def new_static_table_postive_cam_gen():\n",
    "    new_static_table_postive = static_table_postive_cam.copy()\n",
    "    for static_type in new_static_table_postive.keys():\n",
    "        for idx, value in enumerate(new_static_table_postive[static_type]):\n",
    "            new_static_table_postive[static_type][idx] = static_type_class[idx]\n",
    "    return new_static_table_postive\n",
    "\n",
    "def new_static_table_negative_wo_long_shot_gen():\n",
    "    new_static_table_negative_wo_long_shot = static_table_negative_wo_long_shot.copy()\n",
    "    for static_type in new_static_table_negative_wo_long_shot.keys():\n",
    "        for idx, value in enumerate(new_static_table_negative_wo_long_shot[static_type]):\n",
    "            if len(new_static_table_negative_wo_long_shot[static_type]) == 2:\n",
    "                new_static_table_negative_wo_long_shot[static_type][idx] = static_type_class_negative[idx]\n",
    "            else:\n",
    "                new_static_table_negative_wo_long_shot[static_type][idx] = static_type_class[idx]\n",
    "    return new_static_table_negative_wo_long_shot\n",
    "def new_static_table_negative_wo_stand_tackle_gen():\n",
    "    new_static_table_negative_wo_stand_tackle = static_table_negative_wo_stand_tackle.copy()\n",
    "    for static_type in new_static_table_negative_wo_stand_tackle.keys():\n",
    "        for idx, value in enumerate(new_static_table_negative_wo_stand_tackle[static_type]):\n",
    "            if len(new_static_table_negative_wo_stand_tackle[static_type]) == 2:\n",
    "                new_static_table_negative_wo_stand_tackle[static_type][idx] = static_type_class_negative[idx]\n",
    "            else:\n",
    "                new_static_table_negative_wo_stand_tackle[static_type][idx] = static_type_class[idx]\n",
    "    return new_static_table_negative_wo_stand_tackle"
   ]
  },
  {
   "cell_type": "code",
   "execution_count": 8,
   "metadata": {},
   "outputs": [],
   "source": [
    "a = new_static_table_negative_wo_stand_tackle_gen()"
   ]
  },
  {
   "cell_type": "code",
   "execution_count": 9,
   "metadata": {},
   "outputs": [
    {
     "data": {
      "text/plain": [
       "dict_keys(['Acceleration', 'Sprint_Speed', 'Positioning', 'Finishing', 'Shot_Power', 'Long_Shot', 'Volleys', 'Penalties', 'Vision', 'Crossing', 'Free_Kick', 'Short_Passing', 'Long_Passing', 'Curve', 'Agility', 'Balance', 'Reactions', 'Ball_Control', 'Dribbling', 'Interceptions', 'Heading', 'Marking', 'Stand_Tackle', 'Sliding_Tackle', 'Jumping', 'Strength', 'Aggression'])"
      ]
     },
     "execution_count": 9,
     "metadata": {},
     "output_type": "execute_result"
    }
   ],
   "source": [
    "a.keys()"
   ]
  },
  {
   "cell_type": "markdown",
   "metadata": {},
   "source": [
    "# multi_choose"
   ]
  },
  {
   "cell_type": "code",
   "execution_count": 10,
   "metadata": {},
   "outputs": [],
   "source": [
    "import random\n",
    "from random import choice\n",
    "from random import shuffle\n",
    "import numpy as np\n",
    "number_positive = 5000\n",
    "number_negative_wo_long_shot = 15000\n",
    "number_negative_wo_stand_tackle = 15000\n",
    "all_player_static = []\n",
    "CM_label =[]\n",
    "for player_amount in range(number_positive):   \n",
    "    player_static = []\n",
    "    new_static_table_postive_cm = new_static_table_postive_cm_gen()\n",
    "    for ability_type in new_static_table_postive_cm.keys():\n",
    "        player_static.append(choice(new_static_table_postive_cm[ability_type]))\n",
    "    all_player_static.append(player_static)\n",
    "    CM_label.append('yes')\n",
    "    \n",
    "for player_amount in range(number_positive):   \n",
    "    player_static = []\n",
    "    new_static_table_postive_cam = new_static_table_postive_cam_gen()\n",
    "    for ability_type in new_static_table_postive_cam.keys():\n",
    "        player_static.append(choice(new_static_table_postive_cam[ability_type]))\n",
    "    all_player_static.append(player_static)\n",
    "    CM_label.append('yes')\n",
    "    \n",
    "for player_amount in range(number_negative_wo_long_shot):   \n",
    "    player_static = []\n",
    "    new_static_table_negative_wo_long_shot = new_static_table_negative_wo_long_shot_gen()\n",
    "    for ability_type in static_table_negative_wo_long_shot.keys():\n",
    "        player_static.append(choice(new_static_table_negative_wo_long_shot[ability_type]))\n",
    "    all_player_static.append(player_static)\n",
    "    CM_label.append('no')\n",
    "    \n",
    "for player_amount in range(number_negative_wo_stand_tackle):   \n",
    "    player_static = []\n",
    "    new_static_table_negative_wo_stand_tackle = new_static_table_negative_wo_stand_tackle_gen()\n",
    "    for ability_type in new_static_table_negative_wo_stand_tackle.keys():\n",
    "        player_static.append(choice(new_static_table_negative_wo_stand_tackle[ability_type]))\n",
    "    all_player_static.append(player_static)\n",
    "    CM_label.append('no')\n",
    "    "
   ]
  },
  {
   "cell_type": "code",
   "execution_count": 11,
   "metadata": {},
   "outputs": [
    {
     "data": {
      "text/plain": [
       "{'Acceleration': [2, 1, 0],\n",
       " 'Sprint_Speed': [2, 1, 0],\n",
       " 'Positioning': [2, 1, 0],\n",
       " 'Finishing': [2, 1, 0],\n",
       " 'Shot_Power': [2, 1, 0],\n",
       " 'Long_Shot': [2, 1, 0],\n",
       " 'Volleys': [2, 1, 0],\n",
       " 'Penalties': [2, 1, 0],\n",
       " 'Vision': [2, 1, 0],\n",
       " 'Crossing': [2, 1, 0],\n",
       " 'Free_Kick': [2, 1, 0],\n",
       " 'Short_Passing': [2, 1, 0],\n",
       " 'Long_Passing': [2, 1, 0],\n",
       " 'Curve': [2, 1, 0],\n",
       " 'Agility': [2, 1, 0],\n",
       " 'Balance': [2, 1, 0],\n",
       " 'Reactions': [2, 1, 0],\n",
       " 'Ball_Control': [2, 1, 0],\n",
       " 'Dribbling': [2, 1, 0],\n",
       " 'Interceptions': [2, 1, 0],\n",
       " 'Heading': [2, 1, 0],\n",
       " 'Marking': [2, 1, 0],\n",
       " 'Stand_Tackle': [1, 0],\n",
       " 'Sliding_Tackle': [2, 1, 0],\n",
       " 'Jumping': [2, 1, 0],\n",
       " 'Strength': [2, 1, 0],\n",
       " 'Aggression': [2, 1, 0]}"
      ]
     },
     "execution_count": 11,
     "metadata": {},
     "output_type": "execute_result"
    }
   ],
   "source": [
    "static_table_negative_wo_stand_tackle"
   ]
  },
  {
   "cell_type": "markdown",
   "metadata": {},
   "source": [
    "# shuffl_index"
   ]
  },
  {
   "cell_type": "code",
   "execution_count": 12,
   "metadata": {},
   "outputs": [],
   "source": [
    "number_total = 2 * number_positive + number_negative_wo_long_shot + number_negative_wo_stand_tackle\n",
    "train_index = [x for x in range(number_total)]\n",
    "shuffle(train_index)\n",
    "CM_label_type = ['yes', 'no']"
   ]
  },
  {
   "cell_type": "markdown",
   "metadata": {},
   "source": [
    "# multi_class"
   ]
  },
  {
   "cell_type": "code",
   "execution_count": 13,
   "metadata": {},
   "outputs": [],
   "source": [
    "from sklearn.ensemble import AdaBoostClassifier\n",
    "import numpy as np\n",
    "clf = AdaBoostClassifier(n_estimators=100, random_state=0)\n",
    "\n",
    "train_all_player_static = np.array(all_player_static)\n",
    "train_CM_label = np.array(CM_label)\n",
    "clf = clf.fit(train_all_player_static[train_index], train_CM_label[train_index])"
   ]
  },
  {
   "cell_type": "code",
   "execution_count": 14,
   "metadata": {},
   "outputs": [
    {
     "data": {
      "text/plain": [
       "AdaBoostClassifier(n_estimators=100, random_state=0)"
      ]
     },
     "execution_count": 14,
     "metadata": {},
     "output_type": "execute_result"
    }
   ],
   "source": [
    "clf"
   ]
  },
  {
   "cell_type": "code",
   "execution_count": 15,
   "metadata": {},
   "outputs": [],
   "source": [
    "ability_type = list(static_table.keys())"
   ]
  },
  {
   "cell_type": "code",
   "execution_count": 16,
   "metadata": {},
   "outputs": [],
   "source": [
    "# import matplotlib.pyplot as plt\n",
    "# fig, ax = plt.subplots(figsize=(50, 50))\n",
    "# tree.plot_tree(clf, fontsize=6, filled=True,feature_names = ability_type, class_names = CM_label_type ,impurity =True)\n",
    "# plt.savefig('tree_high_dpi_DT_15000_float.jpg', dpi=150,)"
   ]
  },
  {
   "cell_type": "code",
   "execution_count": 17,
   "metadata": {},
   "outputs": [
    {
     "ename": "NameError",
     "evalue": "name 'tree' is not defined",
     "output_type": "error",
     "traceback": [
      "\u001b[0;31m---------------------------------------------------------------------------\u001b[0m",
      "\u001b[0;31mNameError\u001b[0m                                 Traceback (most recent call last)",
      "\u001b[0;32m<ipython-input-17-18a5fe2b0ca7>\u001b[0m in \u001b[0;36m<module>\u001b[0;34m\u001b[0m\n\u001b[1;32m      1\u001b[0m \u001b[0;32mimport\u001b[0m \u001b[0mmatplotlib\u001b[0m\u001b[0;34m.\u001b[0m\u001b[0mpyplot\u001b[0m \u001b[0;32mas\u001b[0m \u001b[0mplt\u001b[0m\u001b[0;34m\u001b[0m\u001b[0;34m\u001b[0m\u001b[0m\n\u001b[1;32m      2\u001b[0m \u001b[0mfig\u001b[0m\u001b[0;34m,\u001b[0m \u001b[0max\u001b[0m \u001b[0;34m=\u001b[0m \u001b[0mplt\u001b[0m\u001b[0;34m.\u001b[0m\u001b[0msubplots\u001b[0m\u001b[0;34m(\u001b[0m\u001b[0mfigsize\u001b[0m\u001b[0;34m=\u001b[0m\u001b[0;34m(\u001b[0m\u001b[0;36m50\u001b[0m\u001b[0;34m,\u001b[0m \u001b[0;36m50\u001b[0m\u001b[0;34m)\u001b[0m\u001b[0;34m)\u001b[0m\u001b[0;34m\u001b[0m\u001b[0;34m\u001b[0m\u001b[0m\n\u001b[0;32m----> 3\u001b[0;31m \u001b[0mtree\u001b[0m\u001b[0;34m.\u001b[0m\u001b[0mplot_tree\u001b[0m\u001b[0;34m(\u001b[0m\u001b[0mclf\u001b[0m\u001b[0;34m,\u001b[0m \u001b[0mfontsize\u001b[0m\u001b[0;34m=\u001b[0m\u001b[0;36m6\u001b[0m\u001b[0;34m,\u001b[0m \u001b[0mfilled\u001b[0m\u001b[0;34m=\u001b[0m\u001b[0;32mTrue\u001b[0m\u001b[0;34m,\u001b[0m\u001b[0mfeature_names\u001b[0m \u001b[0;34m=\u001b[0m \u001b[0mability_type\u001b[0m\u001b[0;34m,\u001b[0m \u001b[0mclass_names\u001b[0m \u001b[0;34m=\u001b[0m \u001b[0mCM_label_type\u001b[0m \u001b[0;34m,\u001b[0m\u001b[0mimpurity\u001b[0m \u001b[0;34m=\u001b[0m\u001b[0;32mTrue\u001b[0m\u001b[0;34m)\u001b[0m\u001b[0;34m\u001b[0m\u001b[0;34m\u001b[0m\u001b[0m\n\u001b[0m\u001b[1;32m      4\u001b[0m \u001b[0mplt\u001b[0m\u001b[0;34m.\u001b[0m\u001b[0msavefig\u001b[0m\u001b[0;34m(\u001b[0m\u001b[0;34m'tree_high_dpi_DT_40000_float.jpg'\u001b[0m\u001b[0;34m,\u001b[0m \u001b[0mdpi\u001b[0m\u001b[0;34m=\u001b[0m\u001b[0;36m150\u001b[0m\u001b[0;34m,\u001b[0m\u001b[0;34m)\u001b[0m\u001b[0;34m\u001b[0m\u001b[0;34m\u001b[0m\u001b[0m\n",
      "\u001b[0;31mNameError\u001b[0m: name 'tree' is not defined"
     ]
    },
    {
     "data": {
      "image/png": "[encoded data removed]",
      "text/plain": [
       "<Figure size 3600x3600 with 1 Axes>"
      ]
     },
     "metadata": {
      "needs_background": "light"
     },
     "output_type": "display_data"
    }
   ],
   "source": [
    "import matplotlib.pyplot as plt\n",
    "fig, ax = plt.subplots(figsize=(50, 50))\n",
    "tree.plot_tree(clf, fontsize=6, filled=True,feature_names = ability_type, class_names = CM_label_type ,impurity =True)\n",
    "plt.savefig('tree_high_dpi_DT_40000_float.jpg', dpi=150,)"
   ]
  }
 ],
 "metadata": {
  "kernelspec": {
   "display_name": "tensorflow3",
   "language": "python",
   "name": "tensorflow3"
  },
  "language_info": {
   "codemirror_mode": {
    "name": "ipython",
    "version": 3
   },
   "file_extension": ".py",
   "mimetype": "text/x-python",
   "name": "python",
   "nbconvert_exporter": "python",
   "pygments_lexer": "ipython3",
   "version": "3.6.9"
  }
 },
 "nbformat": 4,
 "nbformat_minor": 4
}
