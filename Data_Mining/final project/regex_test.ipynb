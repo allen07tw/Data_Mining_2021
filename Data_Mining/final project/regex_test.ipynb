{
 "cells": [
  {
   "cell_type": "code",
   "execution_count": 159,
   "metadata": {},
   "outputs": [],
   "source": [
    "total_train_txt = ''\n",
    "with open('train_2.txt','r') as f:\n",
    "    for line in f.readlines():\n",
    "        total_train_txt += line"
   ]
  },
  {
   "cell_type": "code",
   "execution_count": 349,
   "metadata": {},
   "outputs": [],
   "source": [
    "import re\n",
    "pattern1 = re.compile(r\"[01][0-9]點((0-5)(0-9))分|(2(0-3))點[0-5][0-9]分\", re.I)\n",
    "pattern2 = re.compile(r'(?:((0|1)[0-9](點|小時)|(2[0-3])(點|小時)))', re.I)#\n",
    "pattern4 = re.compile(r'([1-5]?[0-9]|[二三四五]?十?[一二三四五六七八九十])(分)(鐘)', re.I)#|十?[零一二三四五六七八九])?\n",
    "pattern5 = re.compile(r'(https?:\\/\\/)?(www\\.)?[-a-zA-Z0-9@:%._\\+~#=]{1,256}\\.[a-zA-Z0-9()]{1,6}\\b([-a-zA-Z0-9()@:%_\\+.~#?&//=]*)/[-a-zA-Z0-9@:%._\\+~#=]{1,256}\\.[a-zA-Z0-9()]{1,6}\\b([-a-zA-Z0-9()@:%_\\+.~#?&//=]*)', re.IGNORECASE)\n",
    "pattern5 = re.compile(r'(https?:\\/\\/)?(www\\.)?[-a-zA-Z0-9@:%._\\+~#=]{1,256}\\.[a-zA-Z0-9()]{1,6}\\b([-a-zA-Z0-9()@:%_\\+.~#?&//=]*)/[-a-zA-Z0-9@:%._\\+~#=]{1,256}\\.[a-zA-Z0-9()]{1,6}\\b([-a-zA-Z0-9()@:%_\\+.~#?&//=]*)', re.IGNORECASE)\n",
    "pattern6 = re.compile(r'(http:\\/\\/www\\.|https:\\/\\/www\\.|http:\\/\\/|https:\\/\\/|www\\.)([a-z0-9]+([\\-\\.]{1}[a-z0-9]+)*\\.)([a-z]{2,5}(:[0-9]{1,5})?(\\/.*)?)', re.IGNORECASE)\n",
    "pattern8 = re.compile(r'(\\d|[一兩三四五六七八九]?百?[二三四五六七八九]?十?[一二三四五六七八九十])+(號)')#[\\u4e00-\\u8b1c\\u8b1e-\\u9fcc]\n",
    "\n",
    "pattern7 = re.compile(r'[(http(s)?):\\/\\/(www\\.)?a-zA-Z0-9@:%._\\+~#=]{2,256}\\.[a-z]{2,6}\\b([-a-zA-Z0-9@:%_\\+.~#?&//=]*)', re.IGNORECASE)\n",
    "pattern9 = re.compile(r'鹽水區|鹽水|安定')\n",
    "test_t= '*********00點19分****'\n",
    "test_2 = 'aaaaa差不多19小時bbbbbbbbbbbbbb'\n",
    "test_3 = '_____差不多50分鐘========差不多41分鐘=='\n",
    "test_4 = '_____24五十六分鐘==='\n",
    "test_5 = '==========www.prep.gov============'\n",
    "test_6 = '==========三百二十九號============'\n",
    "# test_5 = '===========https://www.google.com==========='\n",
    "test_7 = '====5464==我士實鹽水======'"
   ]
  },
  {
   "cell_type": "code",
   "execution_count": 161,
   "metadata": {},
   "outputs": [],
   "source": [
    "pattern3 = re.compile(r'(差不多)([0-9]|1[0-9]|2[0-3])(點|小時)', re.I)"
   ]
  },
  {
   "cell_type": "code",
   "execution_count": 350,
   "metadata": {},
   "outputs": [],
   "source": [
    "result1 = pattern1.findall(total_train_txt)\n",
    "result2 = pattern2.findall(total_train_txt)\n",
    "result3 = pattern3.findall(test_2)\n",
    "result4 = pattern4.findall(test_4)\n",
    "result5 = pattern5.findall(test_5)\n",
    "result6 = pattern6.findall(test_5)\n",
    "result7 = pattern7.findall(test_5)\n",
    "result8 = pattern8.findall(test_6)\n",
    "result9 = pattern9.findall(test_7)"
   ]
  },
  {
   "cell_type": "code",
   "execution_count": 351,
   "metadata": {},
   "outputs": [
    {
     "data": {
      "text/plain": [
       "['鹽水']"
      ]
     },
     "execution_count": 351,
     "metadata": {},
     "output_type": "execute_result"
    }
   ],
   "source": [
    "result9"
   ]
  },
  {
   "cell_type": "code",
   "execution_count": 334,
   "metadata": {},
   "outputs": [
    {
     "data": {
      "text/plain": [
       "[('三百二十九', '號')]"
      ]
     },
     "execution_count": 334,
     "metadata": {},
     "output_type": "execute_result"
    }
   ],
   "source": [
    "result8"
   ]
  },
  {
   "cell_type": "code",
   "execution_count": 163,
   "metadata": {},
   "outputs": [
    {
     "data": {
      "text/plain": [
       "['============']"
      ]
     },
     "execution_count": 163,
     "metadata": {},
     "output_type": "execute_result"
    }
   ],
   "source": [
    "result7"
   ]
  },
  {
   "cell_type": "code",
   "execution_count": 178,
   "metadata": {},
   "outputs": [
    {
     "data": {
      "text/plain": [
       "[('www.', 'prep.', '', 'gov', '', '')]"
      ]
     },
     "execution_count": 178,
     "metadata": {},
     "output_type": "execute_result"
    }
   ],
   "source": [
    "result6"
   ]
  },
  {
   "cell_type": "code",
   "execution_count": 130,
   "metadata": {},
   "outputs": [
    {
     "data": {
      "text/plain": [
       "[]"
      ]
     },
     "execution_count": 130,
     "metadata": {},
     "output_type": "execute_result"
    }
   ],
   "source": [
    "result5"
   ]
  },
  {
   "cell_type": "code",
   "execution_count": 165,
   "metadata": {},
   "outputs": [
    {
     "data": {
      "text/plain": [
       "[('五十六', '分', '鐘')]"
      ]
     },
     "execution_count": 165,
     "metadata": {},
     "output_type": "execute_result"
    }
   ],
   "source": [
    "result4"
   ]
  },
  {
   "cell_type": "code",
   "execution_count": 191,
   "metadata": {},
   "outputs": [
    {
     "data": {
      "text/plain": [
       "'五十六分鐘'"
      ]
     },
     "execution_count": 191,
     "metadata": {},
     "output_type": "execute_result"
    }
   ],
   "source": [
    "label  = ''.join(result4[0])"
   ]
  },
  {
   "cell_type": "code",
   "execution_count": null,
   "metadata": {},
   "outputs": [],
   "source": []
  },
  {
   "cell_type": "code",
   "execution_count": 166,
   "metadata": {},
   "outputs": [
    {
     "data": {
      "text/plain": [
       "[]"
      ]
     },
     "execution_count": 166,
     "metadata": {},
     "output_type": "execute_result"
    }
   ],
   "source": [
    "result5"
   ]
  },
  {
   "cell_type": "code",
   "execution_count": 369,
   "metadata": {},
   "outputs": [],
   "source": [
    "result = re.finditer(pattern6,test_5)"
   ]
  },
  {
   "cell_type": "code",
   "execution_count": 370,
   "metadata": {},
   "outputs": [
    {
     "data": {
      "text/plain": [
       "<callable_iterator at 0x7f8c65fed5c0>"
      ]
     },
     "execution_count": 370,
     "metadata": {},
     "output_type": "execute_result"
    }
   ],
   "source": [
    "result"
   ]
  },
  {
   "cell_type": "code",
   "execution_count": 371,
   "metadata": {},
   "outputs": [
    {
     "name": "stdout",
     "output_type": "stream",
     "text": [
      "10 22\n"
     ]
    }
   ],
   "source": [
    "\n",
    "for position in result:\n",
    "    print(position.start(),position.end())"
   ]
  },
  {
   "cell_type": "code",
   "execution_count": null,
   "metadata": {},
   "outputs": [],
   "source": []
  },
  {
   "cell_type": "code",
   "execution_count": 172,
   "metadata": {},
   "outputs": [
    {
     "data": {
      "text/plain": [
       "[]"
      ]
     },
     "execution_count": 172,
     "metadata": {},
     "output_type": "execute_result"
    }
   ],
   "source": [
    "[position.start(),position.end() for position in result]"
   ]
  },
  {
   "cell_type": "code",
   "execution_count": 279,
   "metadata": {},
   "outputs": [
    {
     "data": {
      "text/plain": [
       "[('差不多', '19', '小時')]"
      ]
     },
     "execution_count": 279,
     "metadata": {},
     "output_type": "execute_result"
    }
   ],
   "source": [
    "result3"
   ]
  },
  {
   "cell_type": "code",
   "execution_count": 262,
   "metadata": {},
   "outputs": [
    {
     "data": {
      "text/plain": [
       "[('差不多', '41', '分鐘')]"
      ]
     },
     "execution_count": 262,
     "metadata": {},
     "output_type": "execute_result"
    }
   ],
   "source": [
    "result5"
   ]
  },
  {
   "cell_type": "code",
   "execution_count": null,
   "metadata": {},
   "outputs": [],
   "source": [
    "result5"
   ]
  },
  {
   "cell_type": "code",
   "execution_count": 362,
   "metadata": {},
   "outputs": [],
   "source": [
    "import csv\n",
    "import pandas as pd\n",
    "file_name = '(test)blc_rgr_lwld_sw_wc=T_rn=F_sv=T_ls=T_il=F_bies=F_tm=T_b16_fold0-5_es=e9_sw=vote_fix.tsv'\n",
    "f = open(file_name, 'r')\n",
    "csvreader = csv.reader(f)\n",
    "str_list = list(csvreader)\n",
    "list_wo_regex = []\n",
    "for label_list in str_list[1:]:\n",
    "    list_wo_regex.append(label_list[0].split('\\t'))\n",
    "name_attribute = str_list[0][0].split('\\t')\n",
    "writerCSV=pd.DataFrame(columns=name_attribute,data=list_wo_regex)\n",
    "writerCSV.to_csv('./no_fre.tsv',encoding='utf-8', sep = '\\t',index=False)"
   ]
  },
  {
   "cell_type": "code",
   "execution_count": 363,
   "metadata": {},
   "outputs": [],
   "source": [
    "list_wo_regex = []\n",
    "for label_list in str_list[1:]:\n",
    "    list_wo_regex.append(label_list[0].split('\\t'))"
   ]
  },
  {
   "cell_type": "code",
   "execution_count": 368,
   "metadata": {},
   "outputs": [],
   "source": [
    "\n",
    "name_attribute = str_list[0][0].split('\\t')\n",
    "writerCSV=pd.DataFrame(columns=name_attribute,data=list_wo_regex)\n",
    "writerCSV.to_csv('./no_fre.tsv',encoding='utf-8', sep = '\\t',index=False)"
   ]
  }
 ],
 "metadata": {
  "kernelspec": {
   "display_name": "tensorflow3",
   "language": "python",
   "name": "tensorflow3"
  },
  "language_info": {
   "codemirror_mode": {
    "name": "ipython",
    "version": 3
   },
   "file_extension": ".py",
   "mimetype": "text/x-python",
   "name": "python",
   "nbconvert_exporter": "python",
   "pygments_lexer": "ipython3",
   "version": "3.6.9"
  }
 },
 "nbformat": 4,
 "nbformat_minor": 4
}
